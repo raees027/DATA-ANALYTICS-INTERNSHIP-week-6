{
  "nbformat": 4,
  "nbformat_minor": 0,
  "metadata": {
    "colab": {
      "provenance": [],
      "collapsed_sections": [
        "4PLf5Q2nFdLR",
        "VWt5rsPbbx7R",
        "i7IBQCIhcART",
        "XRfYs1W4cBNe",
        "VMR45dgwg_7T",
        "I4izyq4tkOHN",
        "JN1L_1whks2R",
        "mjiPorQtlIYm",
        "rNSYrcuBmn_F",
        "_xDBryUdnEnn",
        "RGUgdBrCoRs1",
        "WYgAN5QTvFCh",
        "m4USfTvpvgzr",
        "ZQ2nYktAyQ1r",
        "xUg6J_mAyvj8",
        "HQ2han6k0u2y"
      ]
    },
    "kernelspec": {
      "name": "python3",
      "display_name": "Python 3"
    },
    "language_info": {
      "name": "python"
    }
  },
  "cells": [
    {
      "cell_type": "code",
      "execution_count": 344,
      "metadata": {
        "id": "yeUqLUWcxq8y"
      },
      "outputs": [],
      "source": [
        "import pandas as pd\n",
        "import numpy as np\n",
        "import matplotlib.pyplot as plt\n",
        "import seaborn as sns\n",
        "from datetime import datetime"
      ]
    },
    {
      "cell_type": "code",
      "source": [
        "df=pd.read_csv('/content/train.csv',index_col=0)"
      ],
      "metadata": {
        "id": "YYlwDtBXy3zg"
      },
      "execution_count": 345,
      "outputs": []
    },
    {
      "cell_type": "code",
      "source": [
        "df_original=df.copy()\n",
        "df_original=df_original.drop_duplicates()"
      ],
      "metadata": {
        "id": "fBhp4TQ6zRhK"
      },
      "execution_count": 346,
      "outputs": []
    },
    {
      "cell_type": "code",
      "source": [
        "df"
      ],
      "metadata": {
        "id": "jyFkcJFqzWvr",
        "colab": {
          "base_uri": "https://localhost:8080/",
          "height": 1000
        },
        "outputId": "849bb3bf-892f-4291-c24b-9452c6c8f429"
      },
      "execution_count": 347,
      "outputs": [
        {
          "output_type": "execute_result",
          "data": {
            "text/plain": [
              "              Order ID  Order Date   Ship Date       Ship Mode Customer ID  \\\n",
              "Row ID                                                                       \n",
              "1       CA-2017-152156  08/11/2017  11/11/2017    Second Class    CG-12520   \n",
              "2       CA-2017-152156  08/11/2017  11/11/2017    Second Class    CG-12520   \n",
              "3       CA-2017-138688  12/06/2017  16/06/2017    Second Class    DV-13045   \n",
              "4       US-2016-108966  11/10/2016  18/10/2016  Standard Class    SO-20335   \n",
              "5       US-2016-108966  11/10/2016  18/10/2016  Standard Class    SO-20335   \n",
              "...                ...         ...         ...             ...         ...   \n",
              "9796    CA-2017-125920  21/05/2017  28/05/2017  Standard Class    SH-19975   \n",
              "9797    CA-2016-128608  12/01/2016  17/01/2016  Standard Class    CS-12490   \n",
              "9798    CA-2016-128608  12/01/2016  17/01/2016  Standard Class    CS-12490   \n",
              "9799    CA-2016-128608  12/01/2016  17/01/2016  Standard Class    CS-12490   \n",
              "9800    CA-2016-128608  12/01/2016  17/01/2016  Standard Class    CS-12490   \n",
              "\n",
              "           Customer Name    Segment        Country             City  \\\n",
              "Row ID                                                                \n",
              "1            Claire Gute   Consumer  United States        Henderson   \n",
              "2            Claire Gute   Consumer  United States        Henderson   \n",
              "3        Darrin Van Huff  Corporate  United States      Los Angeles   \n",
              "4         Sean O'Donnell   Consumer  United States  Fort Lauderdale   \n",
              "5         Sean O'Donnell   Consumer  United States  Fort Lauderdale   \n",
              "...                  ...        ...            ...              ...   \n",
              "9796       Sally Hughsby  Corporate  United States          Chicago   \n",
              "9797    Cindy Schnelling  Corporate  United States           Toledo   \n",
              "9798    Cindy Schnelling  Corporate  United States           Toledo   \n",
              "9799    Cindy Schnelling  Corporate  United States           Toledo   \n",
              "9800    Cindy Schnelling  Corporate  United States           Toledo   \n",
              "\n",
              "             State  Postal Code   Region       Product ID         Category  \\\n",
              "Row ID                                                                       \n",
              "1         Kentucky      42420.0    South  FUR-BO-10001798        Furniture   \n",
              "2         Kentucky      42420.0    South  FUR-CH-10000454        Furniture   \n",
              "3       California      90036.0     West  OFF-LA-10000240  Office Supplies   \n",
              "4          Florida      33311.0    South  FUR-TA-10000577        Furniture   \n",
              "5          Florida      33311.0    South  OFF-ST-10000760  Office Supplies   \n",
              "...            ...          ...      ...              ...              ...   \n",
              "9796      Illinois      60610.0  Central  OFF-BI-10003429  Office Supplies   \n",
              "9797          Ohio      43615.0     East  OFF-AR-10001374  Office Supplies   \n",
              "9798          Ohio      43615.0     East  TEC-PH-10004977       Technology   \n",
              "9799          Ohio      43615.0     East  TEC-PH-10000912       Technology   \n",
              "9800          Ohio      43615.0     East  TEC-AC-10000487       Technology   \n",
              "\n",
              "       Sub-Category                                       Product Name  \\\n",
              "Row ID                                                                   \n",
              "1         Bookcases                  Bush Somerset Collection Bookcase   \n",
              "2            Chairs  Hon Deluxe Fabric Upholstered Stacking Chairs,...   \n",
              "3            Labels  Self-Adhesive Address Labels for Typewriters b...   \n",
              "4            Tables      Bretford CR4500 Series Slim Rectangular Table   \n",
              "5           Storage                     Eldon Fold 'N Roll Cart System   \n",
              "...             ...                                                ...   \n",
              "9796        Binders  Cardinal HOLDit! Binder Insert Strips,Extra St...   \n",
              "9797            Art           BIC Brite Liner Highlighters, Chisel Tip   \n",
              "9798         Phones                                        GE 30524EE4   \n",
              "9799         Phones           Anker 24W Portable Micro USB Car Charger   \n",
              "9800    Accessories                SanDisk Cruzer 4 GB USB Flash Drive   \n",
              "\n",
              "           Sales  \n",
              "Row ID            \n",
              "1       261.9600  \n",
              "2       731.9400  \n",
              "3        14.6200  \n",
              "4       957.5775  \n",
              "5        22.3680  \n",
              "...          ...  \n",
              "9796      3.7980  \n",
              "9797     10.3680  \n",
              "9798    235.1880  \n",
              "9799     26.3760  \n",
              "9800     10.3840  \n",
              "\n",
              "[9800 rows x 17 columns]"
            ],
            "text/html": [
              "\n",
              "  <div id=\"df-32b4046c-f26f-4f6d-9d32-afe5e4ea9a35\" class=\"colab-df-container\">\n",
              "    <div>\n",
              "<style scoped>\n",
              "    .dataframe tbody tr th:only-of-type {\n",
              "        vertical-align: middle;\n",
              "    }\n",
              "\n",
              "    .dataframe tbody tr th {\n",
              "        vertical-align: top;\n",
              "    }\n",
              "\n",
              "    .dataframe thead th {\n",
              "        text-align: right;\n",
              "    }\n",
              "</style>\n",
              "<table border=\"1\" class=\"dataframe\">\n",
              "  <thead>\n",
              "    <tr style=\"text-align: right;\">\n",
              "      <th></th>\n",
              "      <th>Order ID</th>\n",
              "      <th>Order Date</th>\n",
              "      <th>Ship Date</th>\n",
              "      <th>Ship Mode</th>\n",
              "      <th>Customer ID</th>\n",
              "      <th>Customer Name</th>\n",
              "      <th>Segment</th>\n",
              "      <th>Country</th>\n",
              "      <th>City</th>\n",
              "      <th>State</th>\n",
              "      <th>Postal Code</th>\n",
              "      <th>Region</th>\n",
              "      <th>Product ID</th>\n",
              "      <th>Category</th>\n",
              "      <th>Sub-Category</th>\n",
              "      <th>Product Name</th>\n",
              "      <th>Sales</th>\n",
              "    </tr>\n",
              "    <tr>\n",
              "      <th>Row ID</th>\n",
              "      <th></th>\n",
              "      <th></th>\n",
              "      <th></th>\n",
              "      <th></th>\n",
              "      <th></th>\n",
              "      <th></th>\n",
              "      <th></th>\n",
              "      <th></th>\n",
              "      <th></th>\n",
              "      <th></th>\n",
              "      <th></th>\n",
              "      <th></th>\n",
              "      <th></th>\n",
              "      <th></th>\n",
              "      <th></th>\n",
              "      <th></th>\n",
              "      <th></th>\n",
              "    </tr>\n",
              "  </thead>\n",
              "  <tbody>\n",
              "    <tr>\n",
              "      <th>1</th>\n",
              "      <td>CA-2017-152156</td>\n",
              "      <td>08/11/2017</td>\n",
              "      <td>11/11/2017</td>\n",
              "      <td>Second Class</td>\n",
              "      <td>CG-12520</td>\n",
              "      <td>Claire Gute</td>\n",
              "      <td>Consumer</td>\n",
              "      <td>United States</td>\n",
              "      <td>Henderson</td>\n",
              "      <td>Kentucky</td>\n",
              "      <td>42420.0</td>\n",
              "      <td>South</td>\n",
              "      <td>FUR-BO-10001798</td>\n",
              "      <td>Furniture</td>\n",
              "      <td>Bookcases</td>\n",
              "      <td>Bush Somerset Collection Bookcase</td>\n",
              "      <td>261.9600</td>\n",
              "    </tr>\n",
              "    <tr>\n",
              "      <th>2</th>\n",
              "      <td>CA-2017-152156</td>\n",
              "      <td>08/11/2017</td>\n",
              "      <td>11/11/2017</td>\n",
              "      <td>Second Class</td>\n",
              "      <td>CG-12520</td>\n",
              "      <td>Claire Gute</td>\n",
              "      <td>Consumer</td>\n",
              "      <td>United States</td>\n",
              "      <td>Henderson</td>\n",
              "      <td>Kentucky</td>\n",
              "      <td>42420.0</td>\n",
              "      <td>South</td>\n",
              "      <td>FUR-CH-10000454</td>\n",
              "      <td>Furniture</td>\n",
              "      <td>Chairs</td>\n",
              "      <td>Hon Deluxe Fabric Upholstered Stacking Chairs,...</td>\n",
              "      <td>731.9400</td>\n",
              "    </tr>\n",
              "    <tr>\n",
              "      <th>3</th>\n",
              "      <td>CA-2017-138688</td>\n",
              "      <td>12/06/2017</td>\n",
              "      <td>16/06/2017</td>\n",
              "      <td>Second Class</td>\n",
              "      <td>DV-13045</td>\n",
              "      <td>Darrin Van Huff</td>\n",
              "      <td>Corporate</td>\n",
              "      <td>United States</td>\n",
              "      <td>Los Angeles</td>\n",
              "      <td>California</td>\n",
              "      <td>90036.0</td>\n",
              "      <td>West</td>\n",
              "      <td>OFF-LA-10000240</td>\n",
              "      <td>Office Supplies</td>\n",
              "      <td>Labels</td>\n",
              "      <td>Self-Adhesive Address Labels for Typewriters b...</td>\n",
              "      <td>14.6200</td>\n",
              "    </tr>\n",
              "    <tr>\n",
              "      <th>4</th>\n",
              "      <td>US-2016-108966</td>\n",
              "      <td>11/10/2016</td>\n",
              "      <td>18/10/2016</td>\n",
              "      <td>Standard Class</td>\n",
              "      <td>SO-20335</td>\n",
              "      <td>Sean O'Donnell</td>\n",
              "      <td>Consumer</td>\n",
              "      <td>United States</td>\n",
              "      <td>Fort Lauderdale</td>\n",
              "      <td>Florida</td>\n",
              "      <td>33311.0</td>\n",
              "      <td>South</td>\n",
              "      <td>FUR-TA-10000577</td>\n",
              "      <td>Furniture</td>\n",
              "      <td>Tables</td>\n",
              "      <td>Bretford CR4500 Series Slim Rectangular Table</td>\n",
              "      <td>957.5775</td>\n",
              "    </tr>\n",
              "    <tr>\n",
              "      <th>5</th>\n",
              "      <td>US-2016-108966</td>\n",
              "      <td>11/10/2016</td>\n",
              "      <td>18/10/2016</td>\n",
              "      <td>Standard Class</td>\n",
              "      <td>SO-20335</td>\n",
              "      <td>Sean O'Donnell</td>\n",
              "      <td>Consumer</td>\n",
              "      <td>United States</td>\n",
              "      <td>Fort Lauderdale</td>\n",
              "      <td>Florida</td>\n",
              "      <td>33311.0</td>\n",
              "      <td>South</td>\n",
              "      <td>OFF-ST-10000760</td>\n",
              "      <td>Office Supplies</td>\n",
              "      <td>Storage</td>\n",
              "      <td>Eldon Fold 'N Roll Cart System</td>\n",
              "      <td>22.3680</td>\n",
              "    </tr>\n",
              "    <tr>\n",
              "      <th>...</th>\n",
              "      <td>...</td>\n",
              "      <td>...</td>\n",
              "      <td>...</td>\n",
              "      <td>...</td>\n",
              "      <td>...</td>\n",
              "      <td>...</td>\n",
              "      <td>...</td>\n",
              "      <td>...</td>\n",
              "      <td>...</td>\n",
              "      <td>...</td>\n",
              "      <td>...</td>\n",
              "      <td>...</td>\n",
              "      <td>...</td>\n",
              "      <td>...</td>\n",
              "      <td>...</td>\n",
              "      <td>...</td>\n",
              "      <td>...</td>\n",
              "    </tr>\n",
              "    <tr>\n",
              "      <th>9796</th>\n",
              "      <td>CA-2017-125920</td>\n",
              "      <td>21/05/2017</td>\n",
              "      <td>28/05/2017</td>\n",
              "      <td>Standard Class</td>\n",
              "      <td>SH-19975</td>\n",
              "      <td>Sally Hughsby</td>\n",
              "      <td>Corporate</td>\n",
              "      <td>United States</td>\n",
              "      <td>Chicago</td>\n",
              "      <td>Illinois</td>\n",
              "      <td>60610.0</td>\n",
              "      <td>Central</td>\n",
              "      <td>OFF-BI-10003429</td>\n",
              "      <td>Office Supplies</td>\n",
              "      <td>Binders</td>\n",
              "      <td>Cardinal HOLDit! Binder Insert Strips,Extra St...</td>\n",
              "      <td>3.7980</td>\n",
              "    </tr>\n",
              "    <tr>\n",
              "      <th>9797</th>\n",
              "      <td>CA-2016-128608</td>\n",
              "      <td>12/01/2016</td>\n",
              "      <td>17/01/2016</td>\n",
              "      <td>Standard Class</td>\n",
              "      <td>CS-12490</td>\n",
              "      <td>Cindy Schnelling</td>\n",
              "      <td>Corporate</td>\n",
              "      <td>United States</td>\n",
              "      <td>Toledo</td>\n",
              "      <td>Ohio</td>\n",
              "      <td>43615.0</td>\n",
              "      <td>East</td>\n",
              "      <td>OFF-AR-10001374</td>\n",
              "      <td>Office Supplies</td>\n",
              "      <td>Art</td>\n",
              "      <td>BIC Brite Liner Highlighters, Chisel Tip</td>\n",
              "      <td>10.3680</td>\n",
              "    </tr>\n",
              "    <tr>\n",
              "      <th>9798</th>\n",
              "      <td>CA-2016-128608</td>\n",
              "      <td>12/01/2016</td>\n",
              "      <td>17/01/2016</td>\n",
              "      <td>Standard Class</td>\n",
              "      <td>CS-12490</td>\n",
              "      <td>Cindy Schnelling</td>\n",
              "      <td>Corporate</td>\n",
              "      <td>United States</td>\n",
              "      <td>Toledo</td>\n",
              "      <td>Ohio</td>\n",
              "      <td>43615.0</td>\n",
              "      <td>East</td>\n",
              "      <td>TEC-PH-10004977</td>\n",
              "      <td>Technology</td>\n",
              "      <td>Phones</td>\n",
              "      <td>GE 30524EE4</td>\n",
              "      <td>235.1880</td>\n",
              "    </tr>\n",
              "    <tr>\n",
              "      <th>9799</th>\n",
              "      <td>CA-2016-128608</td>\n",
              "      <td>12/01/2016</td>\n",
              "      <td>17/01/2016</td>\n",
              "      <td>Standard Class</td>\n",
              "      <td>CS-12490</td>\n",
              "      <td>Cindy Schnelling</td>\n",
              "      <td>Corporate</td>\n",
              "      <td>United States</td>\n",
              "      <td>Toledo</td>\n",
              "      <td>Ohio</td>\n",
              "      <td>43615.0</td>\n",
              "      <td>East</td>\n",
              "      <td>TEC-PH-10000912</td>\n",
              "      <td>Technology</td>\n",
              "      <td>Phones</td>\n",
              "      <td>Anker 24W Portable Micro USB Car Charger</td>\n",
              "      <td>26.3760</td>\n",
              "    </tr>\n",
              "    <tr>\n",
              "      <th>9800</th>\n",
              "      <td>CA-2016-128608</td>\n",
              "      <td>12/01/2016</td>\n",
              "      <td>17/01/2016</td>\n",
              "      <td>Standard Class</td>\n",
              "      <td>CS-12490</td>\n",
              "      <td>Cindy Schnelling</td>\n",
              "      <td>Corporate</td>\n",
              "      <td>United States</td>\n",
              "      <td>Toledo</td>\n",
              "      <td>Ohio</td>\n",
              "      <td>43615.0</td>\n",
              "      <td>East</td>\n",
              "      <td>TEC-AC-10000487</td>\n",
              "      <td>Technology</td>\n",
              "      <td>Accessories</td>\n",
              "      <td>SanDisk Cruzer 4 GB USB Flash Drive</td>\n",
              "      <td>10.3840</td>\n",
              "    </tr>\n",
              "  </tbody>\n",
              "</table>\n",
              "<p>9800 rows × 17 columns</p>\n",
              "</div>\n",
              "    <div class=\"colab-df-buttons\">\n",
              "\n",
              "  <div class=\"colab-df-container\">\n",
              "    <button class=\"colab-df-convert\" onclick=\"convertToInteractive('df-32b4046c-f26f-4f6d-9d32-afe5e4ea9a35')\"\n",
              "            title=\"Convert this dataframe to an interactive table.\"\n",
              "            style=\"display:none;\">\n",
              "\n",
              "  <svg xmlns=\"http://www.w3.org/2000/svg\" height=\"24px\" viewBox=\"0 -960 960 960\">\n",
              "    <path d=\"M120-120v-720h720v720H120Zm60-500h600v-160H180v160Zm220 220h160v-160H400v160Zm0 220h160v-160H400v160ZM180-400h160v-160H180v160Zm440 0h160v-160H620v160ZM180-180h160v-160H180v160Zm440 0h160v-160H620v160Z\"/>\n",
              "  </svg>\n",
              "    </button>\n",
              "\n",
              "  <style>\n",
              "    .colab-df-container {\n",
              "      display:flex;\n",
              "      gap: 12px;\n",
              "    }\n",
              "\n",
              "    .colab-df-convert {\n",
              "      background-color: #E8F0FE;\n",
              "      border: none;\n",
              "      border-radius: 50%;\n",
              "      cursor: pointer;\n",
              "      display: none;\n",
              "      fill: #1967D2;\n",
              "      height: 32px;\n",
              "      padding: 0 0 0 0;\n",
              "      width: 32px;\n",
              "    }\n",
              "\n",
              "    .colab-df-convert:hover {\n",
              "      background-color: #E2EBFA;\n",
              "      box-shadow: 0px 1px 2px rgba(60, 64, 67, 0.3), 0px 1px 3px 1px rgba(60, 64, 67, 0.15);\n",
              "      fill: #174EA6;\n",
              "    }\n",
              "\n",
              "    .colab-df-buttons div {\n",
              "      margin-bottom: 4px;\n",
              "    }\n",
              "\n",
              "    [theme=dark] .colab-df-convert {\n",
              "      background-color: #3B4455;\n",
              "      fill: #D2E3FC;\n",
              "    }\n",
              "\n",
              "    [theme=dark] .colab-df-convert:hover {\n",
              "      background-color: #434B5C;\n",
              "      box-shadow: 0px 1px 3px 1px rgba(0, 0, 0, 0.15);\n",
              "      filter: drop-shadow(0px 1px 2px rgba(0, 0, 0, 0.3));\n",
              "      fill: #FFFFFF;\n",
              "    }\n",
              "  </style>\n",
              "\n",
              "    <script>\n",
              "      const buttonEl =\n",
              "        document.querySelector('#df-32b4046c-f26f-4f6d-9d32-afe5e4ea9a35 button.colab-df-convert');\n",
              "      buttonEl.style.display =\n",
              "        google.colab.kernel.accessAllowed ? 'block' : 'none';\n",
              "\n",
              "      async function convertToInteractive(key) {\n",
              "        const element = document.querySelector('#df-32b4046c-f26f-4f6d-9d32-afe5e4ea9a35');\n",
              "        const dataTable =\n",
              "          await google.colab.kernel.invokeFunction('convertToInteractive',\n",
              "                                                    [key], {});\n",
              "        if (!dataTable) return;\n",
              "\n",
              "        const docLinkHtml = 'Like what you see? Visit the ' +\n",
              "          '<a target=\"_blank\" href=https://colab.research.google.com/notebooks/data_table.ipynb>data table notebook</a>'\n",
              "          + ' to learn more about interactive tables.';\n",
              "        element.innerHTML = '';\n",
              "        dataTable['output_type'] = 'display_data';\n",
              "        await google.colab.output.renderOutput(dataTable, element);\n",
              "        const docLink = document.createElement('div');\n",
              "        docLink.innerHTML = docLinkHtml;\n",
              "        element.appendChild(docLink);\n",
              "      }\n",
              "    </script>\n",
              "  </div>\n",
              "\n",
              "\n",
              "<div id=\"df-9e4259d4-ec40-4c8a-bc34-3139d4c6a3de\">\n",
              "  <button class=\"colab-df-quickchart\" onclick=\"quickchart('df-9e4259d4-ec40-4c8a-bc34-3139d4c6a3de')\"\n",
              "            title=\"Suggest charts\"\n",
              "            style=\"display:none;\">\n",
              "\n",
              "<svg xmlns=\"http://www.w3.org/2000/svg\" height=\"24px\"viewBox=\"0 0 24 24\"\n",
              "     width=\"24px\">\n",
              "    <g>\n",
              "        <path d=\"M19 3H5c-1.1 0-2 .9-2 2v14c0 1.1.9 2 2 2h14c1.1 0 2-.9 2-2V5c0-1.1-.9-2-2-2zM9 17H7v-7h2v7zm4 0h-2V7h2v10zm4 0h-2v-4h2v4z\"/>\n",
              "    </g>\n",
              "</svg>\n",
              "  </button>\n",
              "\n",
              "<style>\n",
              "  .colab-df-quickchart {\n",
              "      --bg-color: #E8F0FE;\n",
              "      --fill-color: #1967D2;\n",
              "      --hover-bg-color: #E2EBFA;\n",
              "      --hover-fill-color: #174EA6;\n",
              "      --disabled-fill-color: #AAA;\n",
              "      --disabled-bg-color: #DDD;\n",
              "  }\n",
              "\n",
              "  [theme=dark] .colab-df-quickchart {\n",
              "      --bg-color: #3B4455;\n",
              "      --fill-color: #D2E3FC;\n",
              "      --hover-bg-color: #434B5C;\n",
              "      --hover-fill-color: #FFFFFF;\n",
              "      --disabled-bg-color: #3B4455;\n",
              "      --disabled-fill-color: #666;\n",
              "  }\n",
              "\n",
              "  .colab-df-quickchart {\n",
              "    background-color: var(--bg-color);\n",
              "    border: none;\n",
              "    border-radius: 50%;\n",
              "    cursor: pointer;\n",
              "    display: none;\n",
              "    fill: var(--fill-color);\n",
              "    height: 32px;\n",
              "    padding: 0;\n",
              "    width: 32px;\n",
              "  }\n",
              "\n",
              "  .colab-df-quickchart:hover {\n",
              "    background-color: var(--hover-bg-color);\n",
              "    box-shadow: 0 1px 2px rgba(60, 64, 67, 0.3), 0 1px 3px 1px rgba(60, 64, 67, 0.15);\n",
              "    fill: var(--button-hover-fill-color);\n",
              "  }\n",
              "\n",
              "  .colab-df-quickchart-complete:disabled,\n",
              "  .colab-df-quickchart-complete:disabled:hover {\n",
              "    background-color: var(--disabled-bg-color);\n",
              "    fill: var(--disabled-fill-color);\n",
              "    box-shadow: none;\n",
              "  }\n",
              "\n",
              "  .colab-df-spinner {\n",
              "    border: 2px solid var(--fill-color);\n",
              "    border-color: transparent;\n",
              "    border-bottom-color: var(--fill-color);\n",
              "    animation:\n",
              "      spin 1s steps(1) infinite;\n",
              "  }\n",
              "\n",
              "  @keyframes spin {\n",
              "    0% {\n",
              "      border-color: transparent;\n",
              "      border-bottom-color: var(--fill-color);\n",
              "      border-left-color: var(--fill-color);\n",
              "    }\n",
              "    20% {\n",
              "      border-color: transparent;\n",
              "      border-left-color: var(--fill-color);\n",
              "      border-top-color: var(--fill-color);\n",
              "    }\n",
              "    30% {\n",
              "      border-color: transparent;\n",
              "      border-left-color: var(--fill-color);\n",
              "      border-top-color: var(--fill-color);\n",
              "      border-right-color: var(--fill-color);\n",
              "    }\n",
              "    40% {\n",
              "      border-color: transparent;\n",
              "      border-right-color: var(--fill-color);\n",
              "      border-top-color: var(--fill-color);\n",
              "    }\n",
              "    60% {\n",
              "      border-color: transparent;\n",
              "      border-right-color: var(--fill-color);\n",
              "    }\n",
              "    80% {\n",
              "      border-color: transparent;\n",
              "      border-right-color: var(--fill-color);\n",
              "      border-bottom-color: var(--fill-color);\n",
              "    }\n",
              "    90% {\n",
              "      border-color: transparent;\n",
              "      border-bottom-color: var(--fill-color);\n",
              "    }\n",
              "  }\n",
              "</style>\n",
              "\n",
              "  <script>\n",
              "    async function quickchart(key) {\n",
              "      const quickchartButtonEl =\n",
              "        document.querySelector('#' + key + ' button');\n",
              "      quickchartButtonEl.disabled = true;  // To prevent multiple clicks.\n",
              "      quickchartButtonEl.classList.add('colab-df-spinner');\n",
              "      try {\n",
              "        const charts = await google.colab.kernel.invokeFunction(\n",
              "            'suggestCharts', [key], {});\n",
              "      } catch (error) {\n",
              "        console.error('Error during call to suggestCharts:', error);\n",
              "      }\n",
              "      quickchartButtonEl.classList.remove('colab-df-spinner');\n",
              "      quickchartButtonEl.classList.add('colab-df-quickchart-complete');\n",
              "    }\n",
              "    (() => {\n",
              "      let quickchartButtonEl =\n",
              "        document.querySelector('#df-9e4259d4-ec40-4c8a-bc34-3139d4c6a3de button');\n",
              "      quickchartButtonEl.style.display =\n",
              "        google.colab.kernel.accessAllowed ? 'block' : 'none';\n",
              "    })();\n",
              "  </script>\n",
              "</div>\n",
              "\n",
              "  <div id=\"id_3f4556da-464d-46cd-822e-062c9e92e249\">\n",
              "    <style>\n",
              "      .colab-df-generate {\n",
              "        background-color: #E8F0FE;\n",
              "        border: none;\n",
              "        border-radius: 50%;\n",
              "        cursor: pointer;\n",
              "        display: none;\n",
              "        fill: #1967D2;\n",
              "        height: 32px;\n",
              "        padding: 0 0 0 0;\n",
              "        width: 32px;\n",
              "      }\n",
              "\n",
              "      .colab-df-generate:hover {\n",
              "        background-color: #E2EBFA;\n",
              "        box-shadow: 0px 1px 2px rgba(60, 64, 67, 0.3), 0px 1px 3px 1px rgba(60, 64, 67, 0.15);\n",
              "        fill: #174EA6;\n",
              "      }\n",
              "\n",
              "      [theme=dark] .colab-df-generate {\n",
              "        background-color: #3B4455;\n",
              "        fill: #D2E3FC;\n",
              "      }\n",
              "\n",
              "      [theme=dark] .colab-df-generate:hover {\n",
              "        background-color: #434B5C;\n",
              "        box-shadow: 0px 1px 3px 1px rgba(0, 0, 0, 0.15);\n",
              "        filter: drop-shadow(0px 1px 2px rgba(0, 0, 0, 0.3));\n",
              "        fill: #FFFFFF;\n",
              "      }\n",
              "    </style>\n",
              "    <button class=\"colab-df-generate\" onclick=\"generateWithVariable('df')\"\n",
              "            title=\"Generate code using this dataframe.\"\n",
              "            style=\"display:none;\">\n",
              "\n",
              "  <svg xmlns=\"http://www.w3.org/2000/svg\" height=\"24px\"viewBox=\"0 0 24 24\"\n",
              "       width=\"24px\">\n",
              "    <path d=\"M7,19H8.4L18.45,9,17,7.55,7,17.6ZM5,21V16.75L18.45,3.32a2,2,0,0,1,2.83,0l1.4,1.43a1.91,1.91,0,0,1,.58,1.4,1.91,1.91,0,0,1-.58,1.4L9.25,21ZM18.45,9,17,7.55Zm-12,3A5.31,5.31,0,0,0,4.9,8.1,5.31,5.31,0,0,0,1,6.5,5.31,5.31,0,0,0,4.9,4.9,5.31,5.31,0,0,0,6.5,1,5.31,5.31,0,0,0,8.1,4.9,5.31,5.31,0,0,0,12,6.5,5.46,5.46,0,0,0,6.5,12Z\"/>\n",
              "  </svg>\n",
              "    </button>\n",
              "    <script>\n",
              "      (() => {\n",
              "      const buttonEl =\n",
              "        document.querySelector('#id_3f4556da-464d-46cd-822e-062c9e92e249 button.colab-df-generate');\n",
              "      buttonEl.style.display =\n",
              "        google.colab.kernel.accessAllowed ? 'block' : 'none';\n",
              "\n",
              "      buttonEl.onclick = () => {\n",
              "        google.colab.notebook.generateWithVariable('df');\n",
              "      }\n",
              "      })();\n",
              "    </script>\n",
              "  </div>\n",
              "\n",
              "    </div>\n",
              "  </div>\n"
            ]
          },
          "metadata": {},
          "execution_count": 347
        }
      ]
    },
    {
      "cell_type": "markdown",
      "source": [
        "# Reading information about data"
      ],
      "metadata": {
        "id": "qNKljzR2D6Wv"
      }
    },
    {
      "cell_type": "code",
      "source": [
        "df.info()"
      ],
      "metadata": {
        "id": "W0u_JljuzYTr",
        "colab": {
          "base_uri": "https://localhost:8080/"
        },
        "outputId": "a908cc19-211a-4b75-a710-6457ee80d5e7"
      },
      "execution_count": 348,
      "outputs": [
        {
          "output_type": "stream",
          "name": "stdout",
          "text": [
            "<class 'pandas.core.frame.DataFrame'>\n",
            "Int64Index: 9800 entries, 1 to 9800\n",
            "Data columns (total 17 columns):\n",
            " #   Column         Non-Null Count  Dtype  \n",
            "---  ------         --------------  -----  \n",
            " 0   Order ID       9800 non-null   object \n",
            " 1   Order Date     9800 non-null   object \n",
            " 2   Ship Date      9800 non-null   object \n",
            " 3   Ship Mode      9800 non-null   object \n",
            " 4   Customer ID    9800 non-null   object \n",
            " 5   Customer Name  9800 non-null   object \n",
            " 6   Segment        9800 non-null   object \n",
            " 7   Country        9800 non-null   object \n",
            " 8   City           9800 non-null   object \n",
            " 9   State          9800 non-null   object \n",
            " 10  Postal Code    9789 non-null   float64\n",
            " 11  Region         9800 non-null   object \n",
            " 12  Product ID     9800 non-null   object \n",
            " 13  Category       9800 non-null   object \n",
            " 14  Sub-Category   9800 non-null   object \n",
            " 15  Product Name   9800 non-null   object \n",
            " 16  Sales          9800 non-null   float64\n",
            "dtypes: float64(2), object(15)\n",
            "memory usage: 1.3+ MB\n"
          ]
        }
      ]
    },
    {
      "cell_type": "code",
      "source": [
        "df.shape"
      ],
      "metadata": {
        "id": "mikSMnZtDT-6",
        "colab": {
          "base_uri": "https://localhost:8080/"
        },
        "outputId": "d34f73fe-628e-4fd8-ec02-cc56b38f2292"
      },
      "execution_count": 349,
      "outputs": [
        {
          "output_type": "execute_result",
          "data": {
            "text/plain": [
              "(9800, 17)"
            ]
          },
          "metadata": {},
          "execution_count": 349
        }
      ]
    },
    {
      "cell_type": "code",
      "source": [
        "df.describe()"
      ],
      "metadata": {
        "id": "3RY4rLH9Dbpi",
        "colab": {
          "base_uri": "https://localhost:8080/",
          "height": 300
        },
        "outputId": "58e3d5b2-76f9-4391-9274-d6d994357fe8"
      },
      "execution_count": 350,
      "outputs": [
        {
          "output_type": "execute_result",
          "data": {
            "text/plain": [
              "        Postal Code         Sales\n",
              "count   9789.000000   9800.000000\n",
              "mean   55273.322403    230.769059\n",
              "std    32041.223413    626.651875\n",
              "min     1040.000000      0.444000\n",
              "25%    23223.000000     17.248000\n",
              "50%    58103.000000     54.490000\n",
              "75%    90008.000000    210.605000\n",
              "max    99301.000000  22638.480000"
            ],
            "text/html": [
              "\n",
              "  <div id=\"df-82c9c5af-b219-4853-aaea-d72d2cedff2e\" class=\"colab-df-container\">\n",
              "    <div>\n",
              "<style scoped>\n",
              "    .dataframe tbody tr th:only-of-type {\n",
              "        vertical-align: middle;\n",
              "    }\n",
              "\n",
              "    .dataframe tbody tr th {\n",
              "        vertical-align: top;\n",
              "    }\n",
              "\n",
              "    .dataframe thead th {\n",
              "        text-align: right;\n",
              "    }\n",
              "</style>\n",
              "<table border=\"1\" class=\"dataframe\">\n",
              "  <thead>\n",
              "    <tr style=\"text-align: right;\">\n",
              "      <th></th>\n",
              "      <th>Postal Code</th>\n",
              "      <th>Sales</th>\n",
              "    </tr>\n",
              "  </thead>\n",
              "  <tbody>\n",
              "    <tr>\n",
              "      <th>count</th>\n",
              "      <td>9789.000000</td>\n",
              "      <td>9800.000000</td>\n",
              "    </tr>\n",
              "    <tr>\n",
              "      <th>mean</th>\n",
              "      <td>55273.322403</td>\n",
              "      <td>230.769059</td>\n",
              "    </tr>\n",
              "    <tr>\n",
              "      <th>std</th>\n",
              "      <td>32041.223413</td>\n",
              "      <td>626.651875</td>\n",
              "    </tr>\n",
              "    <tr>\n",
              "      <th>min</th>\n",
              "      <td>1040.000000</td>\n",
              "      <td>0.444000</td>\n",
              "    </tr>\n",
              "    <tr>\n",
              "      <th>25%</th>\n",
              "      <td>23223.000000</td>\n",
              "      <td>17.248000</td>\n",
              "    </tr>\n",
              "    <tr>\n",
              "      <th>50%</th>\n",
              "      <td>58103.000000</td>\n",
              "      <td>54.490000</td>\n",
              "    </tr>\n",
              "    <tr>\n",
              "      <th>75%</th>\n",
              "      <td>90008.000000</td>\n",
              "      <td>210.605000</td>\n",
              "    </tr>\n",
              "    <tr>\n",
              "      <th>max</th>\n",
              "      <td>99301.000000</td>\n",
              "      <td>22638.480000</td>\n",
              "    </tr>\n",
              "  </tbody>\n",
              "</table>\n",
              "</div>\n",
              "    <div class=\"colab-df-buttons\">\n",
              "\n",
              "  <div class=\"colab-df-container\">\n",
              "    <button class=\"colab-df-convert\" onclick=\"convertToInteractive('df-82c9c5af-b219-4853-aaea-d72d2cedff2e')\"\n",
              "            title=\"Convert this dataframe to an interactive table.\"\n",
              "            style=\"display:none;\">\n",
              "\n",
              "  <svg xmlns=\"http://www.w3.org/2000/svg\" height=\"24px\" viewBox=\"0 -960 960 960\">\n",
              "    <path d=\"M120-120v-720h720v720H120Zm60-500h600v-160H180v160Zm220 220h160v-160H400v160Zm0 220h160v-160H400v160ZM180-400h160v-160H180v160Zm440 0h160v-160H620v160ZM180-180h160v-160H180v160Zm440 0h160v-160H620v160Z\"/>\n",
              "  </svg>\n",
              "    </button>\n",
              "\n",
              "  <style>\n",
              "    .colab-df-container {\n",
              "      display:flex;\n",
              "      gap: 12px;\n",
              "    }\n",
              "\n",
              "    .colab-df-convert {\n",
              "      background-color: #E8F0FE;\n",
              "      border: none;\n",
              "      border-radius: 50%;\n",
              "      cursor: pointer;\n",
              "      display: none;\n",
              "      fill: #1967D2;\n",
              "      height: 32px;\n",
              "      padding: 0 0 0 0;\n",
              "      width: 32px;\n",
              "    }\n",
              "\n",
              "    .colab-df-convert:hover {\n",
              "      background-color: #E2EBFA;\n",
              "      box-shadow: 0px 1px 2px rgba(60, 64, 67, 0.3), 0px 1px 3px 1px rgba(60, 64, 67, 0.15);\n",
              "      fill: #174EA6;\n",
              "    }\n",
              "\n",
              "    .colab-df-buttons div {\n",
              "      margin-bottom: 4px;\n",
              "    }\n",
              "\n",
              "    [theme=dark] .colab-df-convert {\n",
              "      background-color: #3B4455;\n",
              "      fill: #D2E3FC;\n",
              "    }\n",
              "\n",
              "    [theme=dark] .colab-df-convert:hover {\n",
              "      background-color: #434B5C;\n",
              "      box-shadow: 0px 1px 3px 1px rgba(0, 0, 0, 0.15);\n",
              "      filter: drop-shadow(0px 1px 2px rgba(0, 0, 0, 0.3));\n",
              "      fill: #FFFFFF;\n",
              "    }\n",
              "  </style>\n",
              "\n",
              "    <script>\n",
              "      const buttonEl =\n",
              "        document.querySelector('#df-82c9c5af-b219-4853-aaea-d72d2cedff2e button.colab-df-convert');\n",
              "      buttonEl.style.display =\n",
              "        google.colab.kernel.accessAllowed ? 'block' : 'none';\n",
              "\n",
              "      async function convertToInteractive(key) {\n",
              "        const element = document.querySelector('#df-82c9c5af-b219-4853-aaea-d72d2cedff2e');\n",
              "        const dataTable =\n",
              "          await google.colab.kernel.invokeFunction('convertToInteractive',\n",
              "                                                    [key], {});\n",
              "        if (!dataTable) return;\n",
              "\n",
              "        const docLinkHtml = 'Like what you see? Visit the ' +\n",
              "          '<a target=\"_blank\" href=https://colab.research.google.com/notebooks/data_table.ipynb>data table notebook</a>'\n",
              "          + ' to learn more about interactive tables.';\n",
              "        element.innerHTML = '';\n",
              "        dataTable['output_type'] = 'display_data';\n",
              "        await google.colab.output.renderOutput(dataTable, element);\n",
              "        const docLink = document.createElement('div');\n",
              "        docLink.innerHTML = docLinkHtml;\n",
              "        element.appendChild(docLink);\n",
              "      }\n",
              "    </script>\n",
              "  </div>\n",
              "\n",
              "\n",
              "<div id=\"df-d9971570-6a2a-4cf6-83cb-13f9a9546c8c\">\n",
              "  <button class=\"colab-df-quickchart\" onclick=\"quickchart('df-d9971570-6a2a-4cf6-83cb-13f9a9546c8c')\"\n",
              "            title=\"Suggest charts\"\n",
              "            style=\"display:none;\">\n",
              "\n",
              "<svg xmlns=\"http://www.w3.org/2000/svg\" height=\"24px\"viewBox=\"0 0 24 24\"\n",
              "     width=\"24px\">\n",
              "    <g>\n",
              "        <path d=\"M19 3H5c-1.1 0-2 .9-2 2v14c0 1.1.9 2 2 2h14c1.1 0 2-.9 2-2V5c0-1.1-.9-2-2-2zM9 17H7v-7h2v7zm4 0h-2V7h2v10zm4 0h-2v-4h2v4z\"/>\n",
              "    </g>\n",
              "</svg>\n",
              "  </button>\n",
              "\n",
              "<style>\n",
              "  .colab-df-quickchart {\n",
              "      --bg-color: #E8F0FE;\n",
              "      --fill-color: #1967D2;\n",
              "      --hover-bg-color: #E2EBFA;\n",
              "      --hover-fill-color: #174EA6;\n",
              "      --disabled-fill-color: #AAA;\n",
              "      --disabled-bg-color: #DDD;\n",
              "  }\n",
              "\n",
              "  [theme=dark] .colab-df-quickchart {\n",
              "      --bg-color: #3B4455;\n",
              "      --fill-color: #D2E3FC;\n",
              "      --hover-bg-color: #434B5C;\n",
              "      --hover-fill-color: #FFFFFF;\n",
              "      --disabled-bg-color: #3B4455;\n",
              "      --disabled-fill-color: #666;\n",
              "  }\n",
              "\n",
              "  .colab-df-quickchart {\n",
              "    background-color: var(--bg-color);\n",
              "    border: none;\n",
              "    border-radius: 50%;\n",
              "    cursor: pointer;\n",
              "    display: none;\n",
              "    fill: var(--fill-color);\n",
              "    height: 32px;\n",
              "    padding: 0;\n",
              "    width: 32px;\n",
              "  }\n",
              "\n",
              "  .colab-df-quickchart:hover {\n",
              "    background-color: var(--hover-bg-color);\n",
              "    box-shadow: 0 1px 2px rgba(60, 64, 67, 0.3), 0 1px 3px 1px rgba(60, 64, 67, 0.15);\n",
              "    fill: var(--button-hover-fill-color);\n",
              "  }\n",
              "\n",
              "  .colab-df-quickchart-complete:disabled,\n",
              "  .colab-df-quickchart-complete:disabled:hover {\n",
              "    background-color: var(--disabled-bg-color);\n",
              "    fill: var(--disabled-fill-color);\n",
              "    box-shadow: none;\n",
              "  }\n",
              "\n",
              "  .colab-df-spinner {\n",
              "    border: 2px solid var(--fill-color);\n",
              "    border-color: transparent;\n",
              "    border-bottom-color: var(--fill-color);\n",
              "    animation:\n",
              "      spin 1s steps(1) infinite;\n",
              "  }\n",
              "\n",
              "  @keyframes spin {\n",
              "    0% {\n",
              "      border-color: transparent;\n",
              "      border-bottom-color: var(--fill-color);\n",
              "      border-left-color: var(--fill-color);\n",
              "    }\n",
              "    20% {\n",
              "      border-color: transparent;\n",
              "      border-left-color: var(--fill-color);\n",
              "      border-top-color: var(--fill-color);\n",
              "    }\n",
              "    30% {\n",
              "      border-color: transparent;\n",
              "      border-left-color: var(--fill-color);\n",
              "      border-top-color: var(--fill-color);\n",
              "      border-right-color: var(--fill-color);\n",
              "    }\n",
              "    40% {\n",
              "      border-color: transparent;\n",
              "      border-right-color: var(--fill-color);\n",
              "      border-top-color: var(--fill-color);\n",
              "    }\n",
              "    60% {\n",
              "      border-color: transparent;\n",
              "      border-right-color: var(--fill-color);\n",
              "    }\n",
              "    80% {\n",
              "      border-color: transparent;\n",
              "      border-right-color: var(--fill-color);\n",
              "      border-bottom-color: var(--fill-color);\n",
              "    }\n",
              "    90% {\n",
              "      border-color: transparent;\n",
              "      border-bottom-color: var(--fill-color);\n",
              "    }\n",
              "  }\n",
              "</style>\n",
              "\n",
              "  <script>\n",
              "    async function quickchart(key) {\n",
              "      const quickchartButtonEl =\n",
              "        document.querySelector('#' + key + ' button');\n",
              "      quickchartButtonEl.disabled = true;  // To prevent multiple clicks.\n",
              "      quickchartButtonEl.classList.add('colab-df-spinner');\n",
              "      try {\n",
              "        const charts = await google.colab.kernel.invokeFunction(\n",
              "            'suggestCharts', [key], {});\n",
              "      } catch (error) {\n",
              "        console.error('Error during call to suggestCharts:', error);\n",
              "      }\n",
              "      quickchartButtonEl.classList.remove('colab-df-spinner');\n",
              "      quickchartButtonEl.classList.add('colab-df-quickchart-complete');\n",
              "    }\n",
              "    (() => {\n",
              "      let quickchartButtonEl =\n",
              "        document.querySelector('#df-d9971570-6a2a-4cf6-83cb-13f9a9546c8c button');\n",
              "      quickchartButtonEl.style.display =\n",
              "        google.colab.kernel.accessAllowed ? 'block' : 'none';\n",
              "    })();\n",
              "  </script>\n",
              "</div>\n",
              "\n",
              "    </div>\n",
              "  </div>\n"
            ]
          },
          "metadata": {},
          "execution_count": 350
        }
      ]
    },
    {
      "cell_type": "code",
      "source": [
        "df.isnull().sum()"
      ],
      "metadata": {
        "id": "Cqeb3l5jDdNy",
        "colab": {
          "base_uri": "https://localhost:8080/"
        },
        "outputId": "c7e866bb-6575-4390-824c-242d9320835e"
      },
      "execution_count": 351,
      "outputs": [
        {
          "output_type": "execute_result",
          "data": {
            "text/plain": [
              "Order ID          0\n",
              "Order Date        0\n",
              "Ship Date         0\n",
              "Ship Mode         0\n",
              "Customer ID       0\n",
              "Customer Name     0\n",
              "Segment           0\n",
              "Country           0\n",
              "City              0\n",
              "State             0\n",
              "Postal Code      11\n",
              "Region            0\n",
              "Product ID        0\n",
              "Category          0\n",
              "Sub-Category      0\n",
              "Product Name      0\n",
              "Sales             0\n",
              "dtype: int64"
            ]
          },
          "metadata": {},
          "execution_count": 351
        }
      ]
    },
    {
      "cell_type": "code",
      "source": [
        "df.head()"
      ],
      "metadata": {
        "id": "jdNTOhSzDgfK",
        "colab": {
          "base_uri": "https://localhost:8080/",
          "height": 604
        },
        "outputId": "d8de22fd-cc37-4bec-af7c-6b0223ab7a1a"
      },
      "execution_count": 352,
      "outputs": [
        {
          "output_type": "execute_result",
          "data": {
            "text/plain": [
              "              Order ID  Order Date   Ship Date       Ship Mode Customer ID  \\\n",
              "Row ID                                                                       \n",
              "1       CA-2017-152156  08/11/2017  11/11/2017    Second Class    CG-12520   \n",
              "2       CA-2017-152156  08/11/2017  11/11/2017    Second Class    CG-12520   \n",
              "3       CA-2017-138688  12/06/2017  16/06/2017    Second Class    DV-13045   \n",
              "4       US-2016-108966  11/10/2016  18/10/2016  Standard Class    SO-20335   \n",
              "5       US-2016-108966  11/10/2016  18/10/2016  Standard Class    SO-20335   \n",
              "\n",
              "          Customer Name    Segment        Country             City  \\\n",
              "Row ID                                                               \n",
              "1           Claire Gute   Consumer  United States        Henderson   \n",
              "2           Claire Gute   Consumer  United States        Henderson   \n",
              "3       Darrin Van Huff  Corporate  United States      Los Angeles   \n",
              "4        Sean O'Donnell   Consumer  United States  Fort Lauderdale   \n",
              "5        Sean O'Donnell   Consumer  United States  Fort Lauderdale   \n",
              "\n",
              "             State  Postal Code Region       Product ID         Category  \\\n",
              "Row ID                                                                     \n",
              "1         Kentucky      42420.0  South  FUR-BO-10001798        Furniture   \n",
              "2         Kentucky      42420.0  South  FUR-CH-10000454        Furniture   \n",
              "3       California      90036.0   West  OFF-LA-10000240  Office Supplies   \n",
              "4          Florida      33311.0  South  FUR-TA-10000577        Furniture   \n",
              "5          Florida      33311.0  South  OFF-ST-10000760  Office Supplies   \n",
              "\n",
              "       Sub-Category                                       Product Name  \\\n",
              "Row ID                                                                   \n",
              "1         Bookcases                  Bush Somerset Collection Bookcase   \n",
              "2            Chairs  Hon Deluxe Fabric Upholstered Stacking Chairs,...   \n",
              "3            Labels  Self-Adhesive Address Labels for Typewriters b...   \n",
              "4            Tables      Bretford CR4500 Series Slim Rectangular Table   \n",
              "5           Storage                     Eldon Fold 'N Roll Cart System   \n",
              "\n",
              "           Sales  \n",
              "Row ID            \n",
              "1       261.9600  \n",
              "2       731.9400  \n",
              "3        14.6200  \n",
              "4       957.5775  \n",
              "5        22.3680  "
            ],
            "text/html": [
              "\n",
              "  <div id=\"df-6b6d16f5-fa21-4c7d-a69f-410141e01086\" class=\"colab-df-container\">\n",
              "    <div>\n",
              "<style scoped>\n",
              "    .dataframe tbody tr th:only-of-type {\n",
              "        vertical-align: middle;\n",
              "    }\n",
              "\n",
              "    .dataframe tbody tr th {\n",
              "        vertical-align: top;\n",
              "    }\n",
              "\n",
              "    .dataframe thead th {\n",
              "        text-align: right;\n",
              "    }\n",
              "</style>\n",
              "<table border=\"1\" class=\"dataframe\">\n",
              "  <thead>\n",
              "    <tr style=\"text-align: right;\">\n",
              "      <th></th>\n",
              "      <th>Order ID</th>\n",
              "      <th>Order Date</th>\n",
              "      <th>Ship Date</th>\n",
              "      <th>Ship Mode</th>\n",
              "      <th>Customer ID</th>\n",
              "      <th>Customer Name</th>\n",
              "      <th>Segment</th>\n",
              "      <th>Country</th>\n",
              "      <th>City</th>\n",
              "      <th>State</th>\n",
              "      <th>Postal Code</th>\n",
              "      <th>Region</th>\n",
              "      <th>Product ID</th>\n",
              "      <th>Category</th>\n",
              "      <th>Sub-Category</th>\n",
              "      <th>Product Name</th>\n",
              "      <th>Sales</th>\n",
              "    </tr>\n",
              "    <tr>\n",
              "      <th>Row ID</th>\n",
              "      <th></th>\n",
              "      <th></th>\n",
              "      <th></th>\n",
              "      <th></th>\n",
              "      <th></th>\n",
              "      <th></th>\n",
              "      <th></th>\n",
              "      <th></th>\n",
              "      <th></th>\n",
              "      <th></th>\n",
              "      <th></th>\n",
              "      <th></th>\n",
              "      <th></th>\n",
              "      <th></th>\n",
              "      <th></th>\n",
              "      <th></th>\n",
              "      <th></th>\n",
              "    </tr>\n",
              "  </thead>\n",
              "  <tbody>\n",
              "    <tr>\n",
              "      <th>1</th>\n",
              "      <td>CA-2017-152156</td>\n",
              "      <td>08/11/2017</td>\n",
              "      <td>11/11/2017</td>\n",
              "      <td>Second Class</td>\n",
              "      <td>CG-12520</td>\n",
              "      <td>Claire Gute</td>\n",
              "      <td>Consumer</td>\n",
              "      <td>United States</td>\n",
              "      <td>Henderson</td>\n",
              "      <td>Kentucky</td>\n",
              "      <td>42420.0</td>\n",
              "      <td>South</td>\n",
              "      <td>FUR-BO-10001798</td>\n",
              "      <td>Furniture</td>\n",
              "      <td>Bookcases</td>\n",
              "      <td>Bush Somerset Collection Bookcase</td>\n",
              "      <td>261.9600</td>\n",
              "    </tr>\n",
              "    <tr>\n",
              "      <th>2</th>\n",
              "      <td>CA-2017-152156</td>\n",
              "      <td>08/11/2017</td>\n",
              "      <td>11/11/2017</td>\n",
              "      <td>Second Class</td>\n",
              "      <td>CG-12520</td>\n",
              "      <td>Claire Gute</td>\n",
              "      <td>Consumer</td>\n",
              "      <td>United States</td>\n",
              "      <td>Henderson</td>\n",
              "      <td>Kentucky</td>\n",
              "      <td>42420.0</td>\n",
              "      <td>South</td>\n",
              "      <td>FUR-CH-10000454</td>\n",
              "      <td>Furniture</td>\n",
              "      <td>Chairs</td>\n",
              "      <td>Hon Deluxe Fabric Upholstered Stacking Chairs,...</td>\n",
              "      <td>731.9400</td>\n",
              "    </tr>\n",
              "    <tr>\n",
              "      <th>3</th>\n",
              "      <td>CA-2017-138688</td>\n",
              "      <td>12/06/2017</td>\n",
              "      <td>16/06/2017</td>\n",
              "      <td>Second Class</td>\n",
              "      <td>DV-13045</td>\n",
              "      <td>Darrin Van Huff</td>\n",
              "      <td>Corporate</td>\n",
              "      <td>United States</td>\n",
              "      <td>Los Angeles</td>\n",
              "      <td>California</td>\n",
              "      <td>90036.0</td>\n",
              "      <td>West</td>\n",
              "      <td>OFF-LA-10000240</td>\n",
              "      <td>Office Supplies</td>\n",
              "      <td>Labels</td>\n",
              "      <td>Self-Adhesive Address Labels for Typewriters b...</td>\n",
              "      <td>14.6200</td>\n",
              "    </tr>\n",
              "    <tr>\n",
              "      <th>4</th>\n",
              "      <td>US-2016-108966</td>\n",
              "      <td>11/10/2016</td>\n",
              "      <td>18/10/2016</td>\n",
              "      <td>Standard Class</td>\n",
              "      <td>SO-20335</td>\n",
              "      <td>Sean O'Donnell</td>\n",
              "      <td>Consumer</td>\n",
              "      <td>United States</td>\n",
              "      <td>Fort Lauderdale</td>\n",
              "      <td>Florida</td>\n",
              "      <td>33311.0</td>\n",
              "      <td>South</td>\n",
              "      <td>FUR-TA-10000577</td>\n",
              "      <td>Furniture</td>\n",
              "      <td>Tables</td>\n",
              "      <td>Bretford CR4500 Series Slim Rectangular Table</td>\n",
              "      <td>957.5775</td>\n",
              "    </tr>\n",
              "    <tr>\n",
              "      <th>5</th>\n",
              "      <td>US-2016-108966</td>\n",
              "      <td>11/10/2016</td>\n",
              "      <td>18/10/2016</td>\n",
              "      <td>Standard Class</td>\n",
              "      <td>SO-20335</td>\n",
              "      <td>Sean O'Donnell</td>\n",
              "      <td>Consumer</td>\n",
              "      <td>United States</td>\n",
              "      <td>Fort Lauderdale</td>\n",
              "      <td>Florida</td>\n",
              "      <td>33311.0</td>\n",
              "      <td>South</td>\n",
              "      <td>OFF-ST-10000760</td>\n",
              "      <td>Office Supplies</td>\n",
              "      <td>Storage</td>\n",
              "      <td>Eldon Fold 'N Roll Cart System</td>\n",
              "      <td>22.3680</td>\n",
              "    </tr>\n",
              "  </tbody>\n",
              "</table>\n",
              "</div>\n",
              "    <div class=\"colab-df-buttons\">\n",
              "\n",
              "  <div class=\"colab-df-container\">\n",
              "    <button class=\"colab-df-convert\" onclick=\"convertToInteractive('df-6b6d16f5-fa21-4c7d-a69f-410141e01086')\"\n",
              "            title=\"Convert this dataframe to an interactive table.\"\n",
              "            style=\"display:none;\">\n",
              "\n",
              "  <svg xmlns=\"http://www.w3.org/2000/svg\" height=\"24px\" viewBox=\"0 -960 960 960\">\n",
              "    <path d=\"M120-120v-720h720v720H120Zm60-500h600v-160H180v160Zm220 220h160v-160H400v160Zm0 220h160v-160H400v160ZM180-400h160v-160H180v160Zm440 0h160v-160H620v160ZM180-180h160v-160H180v160Zm440 0h160v-160H620v160Z\"/>\n",
              "  </svg>\n",
              "    </button>\n",
              "\n",
              "  <style>\n",
              "    .colab-df-container {\n",
              "      display:flex;\n",
              "      gap: 12px;\n",
              "    }\n",
              "\n",
              "    .colab-df-convert {\n",
              "      background-color: #E8F0FE;\n",
              "      border: none;\n",
              "      border-radius: 50%;\n",
              "      cursor: pointer;\n",
              "      display: none;\n",
              "      fill: #1967D2;\n",
              "      height: 32px;\n",
              "      padding: 0 0 0 0;\n",
              "      width: 32px;\n",
              "    }\n",
              "\n",
              "    .colab-df-convert:hover {\n",
              "      background-color: #E2EBFA;\n",
              "      box-shadow: 0px 1px 2px rgba(60, 64, 67, 0.3), 0px 1px 3px 1px rgba(60, 64, 67, 0.15);\n",
              "      fill: #174EA6;\n",
              "    }\n",
              "\n",
              "    .colab-df-buttons div {\n",
              "      margin-bottom: 4px;\n",
              "    }\n",
              "\n",
              "    [theme=dark] .colab-df-convert {\n",
              "      background-color: #3B4455;\n",
              "      fill: #D2E3FC;\n",
              "    }\n",
              "\n",
              "    [theme=dark] .colab-df-convert:hover {\n",
              "      background-color: #434B5C;\n",
              "      box-shadow: 0px 1px 3px 1px rgba(0, 0, 0, 0.15);\n",
              "      filter: drop-shadow(0px 1px 2px rgba(0, 0, 0, 0.3));\n",
              "      fill: #FFFFFF;\n",
              "    }\n",
              "  </style>\n",
              "\n",
              "    <script>\n",
              "      const buttonEl =\n",
              "        document.querySelector('#df-6b6d16f5-fa21-4c7d-a69f-410141e01086 button.colab-df-convert');\n",
              "      buttonEl.style.display =\n",
              "        google.colab.kernel.accessAllowed ? 'block' : 'none';\n",
              "\n",
              "      async function convertToInteractive(key) {\n",
              "        const element = document.querySelector('#df-6b6d16f5-fa21-4c7d-a69f-410141e01086');\n",
              "        const dataTable =\n",
              "          await google.colab.kernel.invokeFunction('convertToInteractive',\n",
              "                                                    [key], {});\n",
              "        if (!dataTable) return;\n",
              "\n",
              "        const docLinkHtml = 'Like what you see? Visit the ' +\n",
              "          '<a target=\"_blank\" href=https://colab.research.google.com/notebooks/data_table.ipynb>data table notebook</a>'\n",
              "          + ' to learn more about interactive tables.';\n",
              "        element.innerHTML = '';\n",
              "        dataTable['output_type'] = 'display_data';\n",
              "        await google.colab.output.renderOutput(dataTable, element);\n",
              "        const docLink = document.createElement('div');\n",
              "        docLink.innerHTML = docLinkHtml;\n",
              "        element.appendChild(docLink);\n",
              "      }\n",
              "    </script>\n",
              "  </div>\n",
              "\n",
              "\n",
              "<div id=\"df-05fb9b1a-6021-4894-b6d1-3564d5564686\">\n",
              "  <button class=\"colab-df-quickchart\" onclick=\"quickchart('df-05fb9b1a-6021-4894-b6d1-3564d5564686')\"\n",
              "            title=\"Suggest charts\"\n",
              "            style=\"display:none;\">\n",
              "\n",
              "<svg xmlns=\"http://www.w3.org/2000/svg\" height=\"24px\"viewBox=\"0 0 24 24\"\n",
              "     width=\"24px\">\n",
              "    <g>\n",
              "        <path d=\"M19 3H5c-1.1 0-2 .9-2 2v14c0 1.1.9 2 2 2h14c1.1 0 2-.9 2-2V5c0-1.1-.9-2-2-2zM9 17H7v-7h2v7zm4 0h-2V7h2v10zm4 0h-2v-4h2v4z\"/>\n",
              "    </g>\n",
              "</svg>\n",
              "  </button>\n",
              "\n",
              "<style>\n",
              "  .colab-df-quickchart {\n",
              "      --bg-color: #E8F0FE;\n",
              "      --fill-color: #1967D2;\n",
              "      --hover-bg-color: #E2EBFA;\n",
              "      --hover-fill-color: #174EA6;\n",
              "      --disabled-fill-color: #AAA;\n",
              "      --disabled-bg-color: #DDD;\n",
              "  }\n",
              "\n",
              "  [theme=dark] .colab-df-quickchart {\n",
              "      --bg-color: #3B4455;\n",
              "      --fill-color: #D2E3FC;\n",
              "      --hover-bg-color: #434B5C;\n",
              "      --hover-fill-color: #FFFFFF;\n",
              "      --disabled-bg-color: #3B4455;\n",
              "      --disabled-fill-color: #666;\n",
              "  }\n",
              "\n",
              "  .colab-df-quickchart {\n",
              "    background-color: var(--bg-color);\n",
              "    border: none;\n",
              "    border-radius: 50%;\n",
              "    cursor: pointer;\n",
              "    display: none;\n",
              "    fill: var(--fill-color);\n",
              "    height: 32px;\n",
              "    padding: 0;\n",
              "    width: 32px;\n",
              "  }\n",
              "\n",
              "  .colab-df-quickchart:hover {\n",
              "    background-color: var(--hover-bg-color);\n",
              "    box-shadow: 0 1px 2px rgba(60, 64, 67, 0.3), 0 1px 3px 1px rgba(60, 64, 67, 0.15);\n",
              "    fill: var(--button-hover-fill-color);\n",
              "  }\n",
              "\n",
              "  .colab-df-quickchart-complete:disabled,\n",
              "  .colab-df-quickchart-complete:disabled:hover {\n",
              "    background-color: var(--disabled-bg-color);\n",
              "    fill: var(--disabled-fill-color);\n",
              "    box-shadow: none;\n",
              "  }\n",
              "\n",
              "  .colab-df-spinner {\n",
              "    border: 2px solid var(--fill-color);\n",
              "    border-color: transparent;\n",
              "    border-bottom-color: var(--fill-color);\n",
              "    animation:\n",
              "      spin 1s steps(1) infinite;\n",
              "  }\n",
              "\n",
              "  @keyframes spin {\n",
              "    0% {\n",
              "      border-color: transparent;\n",
              "      border-bottom-color: var(--fill-color);\n",
              "      border-left-color: var(--fill-color);\n",
              "    }\n",
              "    20% {\n",
              "      border-color: transparent;\n",
              "      border-left-color: var(--fill-color);\n",
              "      border-top-color: var(--fill-color);\n",
              "    }\n",
              "    30% {\n",
              "      border-color: transparent;\n",
              "      border-left-color: var(--fill-color);\n",
              "      border-top-color: var(--fill-color);\n",
              "      border-right-color: var(--fill-color);\n",
              "    }\n",
              "    40% {\n",
              "      border-color: transparent;\n",
              "      border-right-color: var(--fill-color);\n",
              "      border-top-color: var(--fill-color);\n",
              "    }\n",
              "    60% {\n",
              "      border-color: transparent;\n",
              "      border-right-color: var(--fill-color);\n",
              "    }\n",
              "    80% {\n",
              "      border-color: transparent;\n",
              "      border-right-color: var(--fill-color);\n",
              "      border-bottom-color: var(--fill-color);\n",
              "    }\n",
              "    90% {\n",
              "      border-color: transparent;\n",
              "      border-bottom-color: var(--fill-color);\n",
              "    }\n",
              "  }\n",
              "</style>\n",
              "\n",
              "  <script>\n",
              "    async function quickchart(key) {\n",
              "      const quickchartButtonEl =\n",
              "        document.querySelector('#' + key + ' button');\n",
              "      quickchartButtonEl.disabled = true;  // To prevent multiple clicks.\n",
              "      quickchartButtonEl.classList.add('colab-df-spinner');\n",
              "      try {\n",
              "        const charts = await google.colab.kernel.invokeFunction(\n",
              "            'suggestCharts', [key], {});\n",
              "      } catch (error) {\n",
              "        console.error('Error during call to suggestCharts:', error);\n",
              "      }\n",
              "      quickchartButtonEl.classList.remove('colab-df-spinner');\n",
              "      quickchartButtonEl.classList.add('colab-df-quickchart-complete');\n",
              "    }\n",
              "    (() => {\n",
              "      let quickchartButtonEl =\n",
              "        document.querySelector('#df-05fb9b1a-6021-4894-b6d1-3564d5564686 button');\n",
              "      quickchartButtonEl.style.display =\n",
              "        google.colab.kernel.accessAllowed ? 'block' : 'none';\n",
              "    })();\n",
              "  </script>\n",
              "</div>\n",
              "\n",
              "    </div>\n",
              "  </div>\n"
            ]
          },
          "metadata": {},
          "execution_count": 352
        }
      ]
    },
    {
      "cell_type": "markdown",
      "source": [
        "Checking if any duplicates are found."
      ],
      "metadata": {
        "id": "KMtrZTNJEqkr"
      }
    },
    {
      "cell_type": "code",
      "source": [
        "df.duplicated().value_counts()"
      ],
      "metadata": {
        "id": "oy8BjOXdEQFH",
        "colab": {
          "base_uri": "https://localhost:8080/"
        },
        "outputId": "f4322ea2-efd4-40c4-dc45-2a59c105d710"
      },
      "execution_count": 353,
      "outputs": [
        {
          "output_type": "execute_result",
          "data": {
            "text/plain": [
              "False    9799\n",
              "True        1\n",
              "dtype: int64"
            ]
          },
          "metadata": {},
          "execution_count": 353
        }
      ]
    },
    {
      "cell_type": "markdown",
      "source": [
        "One duplicate is found and we have to remove it."
      ],
      "metadata": {
        "id": "Q0v5-1I5EvxT"
      }
    },
    {
      "cell_type": "code",
      "source": [
        "df=df.drop_duplicates()"
      ],
      "metadata": {
        "id": "wSUj6W3SEUxg"
      },
      "execution_count": 354,
      "outputs": []
    },
    {
      "cell_type": "code",
      "source": [
        "df.shape"
      ],
      "metadata": {
        "colab": {
          "base_uri": "https://localhost:8080/"
        },
        "id": "ve0bPqUAmTQb",
        "outputId": "accdf1b0-8fa7-4c1a-a946-1406b77df804"
      },
      "execution_count": 355,
      "outputs": [
        {
          "output_type": "execute_result",
          "data": {
            "text/plain": [
              "(9799, 17)"
            ]
          },
          "metadata": {},
          "execution_count": 355
        }
      ]
    },
    {
      "cell_type": "code",
      "source": [
        "df.rename(columns=str.lower,inplace=True) #Converting all column names into lower case for easy use."
      ],
      "metadata": {
        "id": "ApqlRAIpE3eT",
        "colab": {
          "base_uri": "https://localhost:8080/"
        },
        "outputId": "7fb69e7d-e321-467d-9644-707d49c46ba7"
      },
      "execution_count": 356,
      "outputs": [
        {
          "output_type": "stream",
          "name": "stderr",
          "text": [
            "<ipython-input-356-6b0117c71310>:1: SettingWithCopyWarning: \n",
            "A value is trying to be set on a copy of a slice from a DataFrame\n",
            "\n",
            "See the caveats in the documentation: https://pandas.pydata.org/pandas-docs/stable/user_guide/indexing.html#returning-a-view-versus-a-copy\n",
            "  df.rename(columns=str.lower,inplace=True) #Converting all column names into lower case for easy use.\n"
          ]
        }
      ]
    },
    {
      "cell_type": "code",
      "source": [
        "df.columns"
      ],
      "metadata": {
        "id": "nO4uONNRFL4l",
        "colab": {
          "base_uri": "https://localhost:8080/"
        },
        "outputId": "7f045695-5ee5-4ab3-d16a-6b2995405f30"
      },
      "execution_count": 357,
      "outputs": [
        {
          "output_type": "execute_result",
          "data": {
            "text/plain": [
              "Index(['order id', 'order date', 'ship date', 'ship mode', 'customer id',\n",
              "       'customer name', 'segment', 'country', 'city', 'state', 'postal code',\n",
              "       'region', 'product id', 'category', 'sub-category', 'product name',\n",
              "       'sales'],\n",
              "      dtype='object')"
            ]
          },
          "metadata": {},
          "execution_count": 357
        }
      ]
    },
    {
      "cell_type": "markdown",
      "source": [
        "# Procesing each column individually."
      ],
      "metadata": {
        "id": "lS2ZrjNxFUfe"
      }
    },
    {
      "cell_type": "markdown",
      "source": [
        "### order id"
      ],
      "metadata": {
        "id": "4PLf5Q2nFdLR"
      }
    },
    {
      "cell_type": "markdown",
      "source": [
        "Contains unique id's of order."
      ],
      "metadata": {
        "id": "0gqV-AF5Z6ZW"
      }
    },
    {
      "cell_type": "code",
      "source": [
        "df['order id']"
      ],
      "metadata": {
        "id": "Ar5IBC3tZ5pW",
        "colab": {
          "base_uri": "https://localhost:8080/"
        },
        "outputId": "1df680aa-8ca4-4360-9c87-4c477b9cef25"
      },
      "execution_count": 358,
      "outputs": [
        {
          "output_type": "execute_result",
          "data": {
            "text/plain": [
              "Row ID\n",
              "1       CA-2017-152156\n",
              "2       CA-2017-152156\n",
              "3       CA-2017-138688\n",
              "4       US-2016-108966\n",
              "5       US-2016-108966\n",
              "             ...      \n",
              "9796    CA-2017-125920\n",
              "9797    CA-2016-128608\n",
              "9798    CA-2016-128608\n",
              "9799    CA-2016-128608\n",
              "9800    CA-2016-128608\n",
              "Name: order id, Length: 9799, dtype: object"
            ]
          },
          "metadata": {},
          "execution_count": 358
        }
      ]
    },
    {
      "cell_type": "code",
      "source": [
        "df['order id'].isna().sum()"
      ],
      "metadata": {
        "id": "C5_Pq34vaAaW",
        "colab": {
          "base_uri": "https://localhost:8080/"
        },
        "outputId": "b45e0980-1619-4439-dfc0-273ff8064f31"
      },
      "execution_count": 359,
      "outputs": [
        {
          "output_type": "execute_result",
          "data": {
            "text/plain": [
              "0"
            ]
          },
          "metadata": {},
          "execution_count": 359
        }
      ]
    },
    {
      "cell_type": "code",
      "source": [
        "df['order id'].dtype"
      ],
      "metadata": {
        "id": "xmUi7YmEaFDe",
        "colab": {
          "base_uri": "https://localhost:8080/"
        },
        "outputId": "47c755f6-706f-425c-ceae-fc0773b8d45e"
      },
      "execution_count": 360,
      "outputs": [
        {
          "output_type": "execute_result",
          "data": {
            "text/plain": [
              "dtype('O')"
            ]
          },
          "metadata": {},
          "execution_count": 360
        }
      ]
    },
    {
      "cell_type": "code",
      "source": [
        "df['order id'].value_counts()"
      ],
      "metadata": {
        "id": "iQmmPiB6aLCn",
        "colab": {
          "base_uri": "https://localhost:8080/"
        },
        "outputId": "7d60dff0-1fae-414e-d000-74a831b53e8b"
      },
      "execution_count": 361,
      "outputs": [
        {
          "output_type": "execute_result",
          "data": {
            "text/plain": [
              "CA-2018-100111    14\n",
              "CA-2018-157987    12\n",
              "US-2017-108504    11\n",
              "CA-2017-165330    11\n",
              "CA-2016-131338    10\n",
              "                  ..\n",
              "US-2016-110261     1\n",
              "CA-2016-125710     1\n",
              "US-2016-137960     1\n",
              "CA-2016-124975     1\n",
              "CA-2016-142202     1\n",
              "Name: order id, Length: 4922, dtype: int64"
            ]
          },
          "metadata": {},
          "execution_count": 361
        }
      ]
    },
    {
      "cell_type": "markdown",
      "source": [
        "### order date"
      ],
      "metadata": {
        "id": "VWt5rsPbbx7R"
      }
    },
    {
      "cell_type": "markdown",
      "source": [
        "Contains orderd date of the order."
      ],
      "metadata": {
        "id": "P9tzSmBab16q"
      }
    },
    {
      "cell_type": "code",
      "source": [
        "df['order date']=df_original['Order Date'].copy()"
      ],
      "metadata": {
        "id": "K-Sxf1Ojbu8o",
        "colab": {
          "base_uri": "https://localhost:8080/"
        },
        "outputId": "cb19bbc1-8f60-4a89-a806-9c010ef3708e"
      },
      "execution_count": 362,
      "outputs": [
        {
          "output_type": "stream",
          "name": "stderr",
          "text": [
            "<ipython-input-362-4938eac9a202>:1: SettingWithCopyWarning: \n",
            "A value is trying to be set on a copy of a slice from a DataFrame.\n",
            "Try using .loc[row_indexer,col_indexer] = value instead\n",
            "\n",
            "See the caveats in the documentation: https://pandas.pydata.org/pandas-docs/stable/user_guide/indexing.html#returning-a-view-versus-a-copy\n",
            "  df['order date']=df_original['Order Date'].copy()\n"
          ]
        }
      ]
    },
    {
      "cell_type": "code",
      "source": [
        "df['order date']"
      ],
      "metadata": {
        "id": "0D8MnF0-bu8p",
        "colab": {
          "base_uri": "https://localhost:8080/"
        },
        "outputId": "5fb24073-bf8f-4db8-d492-1715540e9bf0"
      },
      "execution_count": 363,
      "outputs": [
        {
          "output_type": "execute_result",
          "data": {
            "text/plain": [
              "Row ID\n",
              "1       08/11/2017\n",
              "2       08/11/2017\n",
              "3       12/06/2017\n",
              "4       11/10/2016\n",
              "5       11/10/2016\n",
              "           ...    \n",
              "9796    21/05/2017\n",
              "9797    12/01/2016\n",
              "9798    12/01/2016\n",
              "9799    12/01/2016\n",
              "9800    12/01/2016\n",
              "Name: order date, Length: 9799, dtype: object"
            ]
          },
          "metadata": {},
          "execution_count": 363
        }
      ]
    },
    {
      "cell_type": "code",
      "source": [
        "df['order date'].isna().sum()"
      ],
      "metadata": {
        "id": "ANS0LUukbu8p",
        "colab": {
          "base_uri": "https://localhost:8080/"
        },
        "outputId": "240930f5-6c3d-4f8c-ea39-33adc85c3d8c"
      },
      "execution_count": 364,
      "outputs": [
        {
          "output_type": "execute_result",
          "data": {
            "text/plain": [
              "0"
            ]
          },
          "metadata": {},
          "execution_count": 364
        }
      ]
    },
    {
      "cell_type": "code",
      "source": [
        "df['order date'].dtype"
      ],
      "metadata": {
        "id": "tHImUzhRbu8p",
        "colab": {
          "base_uri": "https://localhost:8080/"
        },
        "outputId": "c92ea23f-59a0-47c6-fea8-406f0eab97f1"
      },
      "execution_count": 365,
      "outputs": [
        {
          "output_type": "execute_result",
          "data": {
            "text/plain": [
              "dtype('O')"
            ]
          },
          "metadata": {},
          "execution_count": 365
        }
      ]
    },
    {
      "cell_type": "markdown",
      "source": [
        "Changing into timedate format."
      ],
      "metadata": {
        "id": "jR-D1sAqbu8p"
      }
    },
    {
      "cell_type": "code",
      "source": [
        "df['order date']=pd.to_datetime(df['order date'])"
      ],
      "metadata": {
        "id": "0Tx6gIG9bu8p",
        "colab": {
          "base_uri": "https://localhost:8080/"
        },
        "outputId": "e78e261e-7cb1-481e-dcea-4471eeb06418"
      },
      "execution_count": 366,
      "outputs": [
        {
          "output_type": "stream",
          "name": "stderr",
          "text": [
            "<ipython-input-366-6cbac3387dca>:1: UserWarning: Parsing dates in DD/MM/YYYY format when dayfirst=False (the default) was specified. This may lead to inconsistently parsed dates! Specify a format to ensure consistent parsing.\n",
            "  df['order date']=pd.to_datetime(df['order date'])\n",
            "<ipython-input-366-6cbac3387dca>:1: SettingWithCopyWarning: \n",
            "A value is trying to be set on a copy of a slice from a DataFrame.\n",
            "Try using .loc[row_indexer,col_indexer] = value instead\n",
            "\n",
            "See the caveats in the documentation: https://pandas.pydata.org/pandas-docs/stable/user_guide/indexing.html#returning-a-view-versus-a-copy\n",
            "  df['order date']=pd.to_datetime(df['order date'])\n"
          ]
        }
      ]
    },
    {
      "cell_type": "code",
      "source": [
        "df['order date']"
      ],
      "metadata": {
        "id": "VOuZJHufbu8q",
        "colab": {
          "base_uri": "https://localhost:8080/"
        },
        "outputId": "0b14ba81-41ad-48dc-8bff-590d458795f1"
      },
      "execution_count": 367,
      "outputs": [
        {
          "output_type": "execute_result",
          "data": {
            "text/plain": [
              "Row ID\n",
              "1      2017-08-11\n",
              "2      2017-08-11\n",
              "3      2017-12-06\n",
              "4      2016-11-10\n",
              "5      2016-11-10\n",
              "          ...    \n",
              "9796   2017-05-21\n",
              "9797   2016-12-01\n",
              "9798   2016-12-01\n",
              "9799   2016-12-01\n",
              "9800   2016-12-01\n",
              "Name: order date, Length: 9799, dtype: datetime64[ns]"
            ]
          },
          "metadata": {},
          "execution_count": 367
        }
      ]
    },
    {
      "cell_type": "code",
      "source": [
        "df['order date'].value_counts()"
      ],
      "metadata": {
        "id": "yvINrvtCbu8q",
        "colab": {
          "base_uri": "https://localhost:8080/"
        },
        "outputId": "1114a4c1-9dea-40ae-f9d2-bdd7520a5cb3"
      },
      "execution_count": 368,
      "outputs": [
        {
          "output_type": "execute_result",
          "data": {
            "text/plain": [
              "2017-05-09    38\n",
              "2017-10-11    35\n",
              "2018-02-12    34\n",
              "2018-01-12    34\n",
              "2018-02-09    33\n",
              "              ..\n",
              "2017-02-25     1\n",
              "2017-10-25     1\n",
              "2015-02-21     1\n",
              "2015-11-09     1\n",
              "2016-09-05     1\n",
              "Name: order date, Length: 1230, dtype: int64"
            ]
          },
          "metadata": {},
          "execution_count": 368
        }
      ]
    },
    {
      "cell_type": "markdown",
      "source": [
        "### ship date"
      ],
      "metadata": {
        "id": "i7IBQCIhcART"
      }
    },
    {
      "cell_type": "markdown",
      "source": [
        "Contains shipped date of order."
      ],
      "metadata": {
        "id": "sABbECP5cD0b"
      }
    },
    {
      "cell_type": "code",
      "source": [
        "df['ship date']=df_original['Ship Date'].copy()"
      ],
      "metadata": {
        "id": "6l8ZAqR5cKpc",
        "colab": {
          "base_uri": "https://localhost:8080/"
        },
        "outputId": "7f924306-be58-4b4b-f946-52a1c172d6d8"
      },
      "execution_count": 369,
      "outputs": [
        {
          "output_type": "stream",
          "name": "stderr",
          "text": [
            "<ipython-input-369-f99797e2b90d>:1: SettingWithCopyWarning: \n",
            "A value is trying to be set on a copy of a slice from a DataFrame.\n",
            "Try using .loc[row_indexer,col_indexer] = value instead\n",
            "\n",
            "See the caveats in the documentation: https://pandas.pydata.org/pandas-docs/stable/user_guide/indexing.html#returning-a-view-versus-a-copy\n",
            "  df['ship date']=df_original['Ship Date'].copy()\n"
          ]
        }
      ]
    },
    {
      "cell_type": "markdown",
      "source": [
        "Contains informaiton about order date."
      ],
      "metadata": {
        "id": "Ge3xm2dUcKpc"
      }
    },
    {
      "cell_type": "code",
      "source": [
        "df['ship date']"
      ],
      "metadata": {
        "id": "3J2tuitlcKpc",
        "colab": {
          "base_uri": "https://localhost:8080/"
        },
        "outputId": "7aaf1dda-fc42-499f-dbf7-427790ddc3cf"
      },
      "execution_count": 370,
      "outputs": [
        {
          "output_type": "execute_result",
          "data": {
            "text/plain": [
              "Row ID\n",
              "1       11/11/2017\n",
              "2       11/11/2017\n",
              "3       16/06/2017\n",
              "4       18/10/2016\n",
              "5       18/10/2016\n",
              "           ...    \n",
              "9796    28/05/2017\n",
              "9797    17/01/2016\n",
              "9798    17/01/2016\n",
              "9799    17/01/2016\n",
              "9800    17/01/2016\n",
              "Name: ship date, Length: 9799, dtype: object"
            ]
          },
          "metadata": {},
          "execution_count": 370
        }
      ]
    },
    {
      "cell_type": "code",
      "source": [
        "df['ship date'].isna().sum()"
      ],
      "metadata": {
        "id": "SC-eTmDNcKpc",
        "colab": {
          "base_uri": "https://localhost:8080/"
        },
        "outputId": "15cf3ece-15b0-4ab2-9418-12396c7c38ae"
      },
      "execution_count": 371,
      "outputs": [
        {
          "output_type": "execute_result",
          "data": {
            "text/plain": [
              "0"
            ]
          },
          "metadata": {},
          "execution_count": 371
        }
      ]
    },
    {
      "cell_type": "code",
      "source": [
        "df['ship date'].dtype"
      ],
      "metadata": {
        "id": "Q0QXXvQacKpd",
        "colab": {
          "base_uri": "https://localhost:8080/"
        },
        "outputId": "d1f925bd-9d5f-4d88-e03d-570486b3110a"
      },
      "execution_count": 372,
      "outputs": [
        {
          "output_type": "execute_result",
          "data": {
            "text/plain": [
              "dtype('O')"
            ]
          },
          "metadata": {},
          "execution_count": 372
        }
      ]
    },
    {
      "cell_type": "markdown",
      "source": [
        "Changing into timedate format."
      ],
      "metadata": {
        "id": "L6B4iPSccKpd"
      }
    },
    {
      "cell_type": "code",
      "source": [
        "df['ship date']=pd.to_datetime(df['ship date'])"
      ],
      "metadata": {
        "id": "dmuJCD-KcKpd",
        "colab": {
          "base_uri": "https://localhost:8080/"
        },
        "outputId": "3c3944fb-590e-40f4-a23f-d0c49fe5c6e1"
      },
      "execution_count": 373,
      "outputs": [
        {
          "output_type": "stream",
          "name": "stderr",
          "text": [
            "<ipython-input-373-61c0eb37cc32>:1: UserWarning: Parsing dates in DD/MM/YYYY format when dayfirst=False (the default) was specified. This may lead to inconsistently parsed dates! Specify a format to ensure consistent parsing.\n",
            "  df['ship date']=pd.to_datetime(df['ship date'])\n",
            "<ipython-input-373-61c0eb37cc32>:1: SettingWithCopyWarning: \n",
            "A value is trying to be set on a copy of a slice from a DataFrame.\n",
            "Try using .loc[row_indexer,col_indexer] = value instead\n",
            "\n",
            "See the caveats in the documentation: https://pandas.pydata.org/pandas-docs/stable/user_guide/indexing.html#returning-a-view-versus-a-copy\n",
            "  df['ship date']=pd.to_datetime(df['ship date'])\n"
          ]
        }
      ]
    },
    {
      "cell_type": "code",
      "source": [
        "df['ship date']"
      ],
      "metadata": {
        "id": "ZckDFAotcKpd",
        "colab": {
          "base_uri": "https://localhost:8080/"
        },
        "outputId": "4b8cad4a-d4f5-4dc3-bf3d-39002cc96ecf"
      },
      "execution_count": 374,
      "outputs": [
        {
          "output_type": "execute_result",
          "data": {
            "text/plain": [
              "Row ID\n",
              "1      2017-11-11\n",
              "2      2017-11-11\n",
              "3      2017-06-16\n",
              "4      2016-10-18\n",
              "5      2016-10-18\n",
              "          ...    \n",
              "9796   2017-05-28\n",
              "9797   2016-01-17\n",
              "9798   2016-01-17\n",
              "9799   2016-01-17\n",
              "9800   2016-01-17\n",
              "Name: ship date, Length: 9799, dtype: datetime64[ns]"
            ]
          },
          "metadata": {},
          "execution_count": 374
        }
      ]
    },
    {
      "cell_type": "code",
      "source": [
        "df['ship date'].value_counts()"
      ],
      "metadata": {
        "id": "_qXwoyRCcKpd",
        "colab": {
          "base_uri": "https://localhost:8080/"
        },
        "outputId": "17221712-ea75-4aff-df96-760edc59d94c"
      },
      "execution_count": 375,
      "outputs": [
        {
          "output_type": "execute_result",
          "data": {
            "text/plain": [
              "2018-09-26    34\n",
              "2018-06-12    32\n",
              "2016-12-16    31\n",
              "2018-11-21    30\n",
              "2018-12-12    30\n",
              "              ..\n",
              "2018-11-06     1\n",
              "2016-09-13     1\n",
              "2015-04-03     1\n",
              "2017-07-08     1\n",
              "2016-05-13     1\n",
              "Name: ship date, Length: 1326, dtype: int64"
            ]
          },
          "metadata": {},
          "execution_count": 375
        }
      ]
    },
    {
      "cell_type": "code",
      "source": [],
      "metadata": {
        "id": "OWt5OJ3Ccirl"
      },
      "execution_count": 375,
      "outputs": []
    },
    {
      "cell_type": "markdown",
      "source": [
        "### ship mode"
      ],
      "metadata": {
        "id": "XRfYs1W4cBNe"
      }
    },
    {
      "cell_type": "markdown",
      "source": [
        "Contains inforamtion about ship mode."
      ],
      "metadata": {
        "id": "LNqjMn_tcBNf"
      }
    },
    {
      "cell_type": "code",
      "source": [
        "df['ship mode']=df_original['Ship Mode'].copy()"
      ],
      "metadata": {
        "id": "Y290ZyfjcBNf",
        "colab": {
          "base_uri": "https://localhost:8080/"
        },
        "outputId": "e705611b-cdc8-4a9f-cd60-547c1a251cf6"
      },
      "execution_count": 376,
      "outputs": [
        {
          "output_type": "stream",
          "name": "stderr",
          "text": [
            "<ipython-input-376-4fe728b64cc8>:1: SettingWithCopyWarning: \n",
            "A value is trying to be set on a copy of a slice from a DataFrame.\n",
            "Try using .loc[row_indexer,col_indexer] = value instead\n",
            "\n",
            "See the caveats in the documentation: https://pandas.pydata.org/pandas-docs/stable/user_guide/indexing.html#returning-a-view-versus-a-copy\n",
            "  df['ship mode']=df_original['Ship Mode'].copy()\n"
          ]
        }
      ]
    },
    {
      "cell_type": "code",
      "source": [
        "df['ship mode']"
      ],
      "metadata": {
        "id": "cVDTQQBBcBNf",
        "colab": {
          "base_uri": "https://localhost:8080/"
        },
        "outputId": "0af0f46b-ff22-460f-ca21-9dce6ff01481"
      },
      "execution_count": 377,
      "outputs": [
        {
          "output_type": "execute_result",
          "data": {
            "text/plain": [
              "Row ID\n",
              "1         Second Class\n",
              "2         Second Class\n",
              "3         Second Class\n",
              "4       Standard Class\n",
              "5       Standard Class\n",
              "             ...      \n",
              "9796    Standard Class\n",
              "9797    Standard Class\n",
              "9798    Standard Class\n",
              "9799    Standard Class\n",
              "9800    Standard Class\n",
              "Name: ship mode, Length: 9799, dtype: object"
            ]
          },
          "metadata": {},
          "execution_count": 377
        }
      ]
    },
    {
      "cell_type": "code",
      "source": [
        "df['ship mode'].isna().sum()"
      ],
      "metadata": {
        "id": "6CF3RDNDcBNg",
        "colab": {
          "base_uri": "https://localhost:8080/"
        },
        "outputId": "346c2619-8d5c-4e6f-9060-7e7e74899286"
      },
      "execution_count": 378,
      "outputs": [
        {
          "output_type": "execute_result",
          "data": {
            "text/plain": [
              "0"
            ]
          },
          "metadata": {},
          "execution_count": 378
        }
      ]
    },
    {
      "cell_type": "code",
      "source": [
        "df['ship mode'].dtype"
      ],
      "metadata": {
        "id": "6m8WbXNHcBNg",
        "colab": {
          "base_uri": "https://localhost:8080/"
        },
        "outputId": "af229022-fc6a-4163-c93b-5ed611c1ba3a"
      },
      "execution_count": 379,
      "outputs": [
        {
          "output_type": "execute_result",
          "data": {
            "text/plain": [
              "dtype('O')"
            ]
          },
          "metadata": {},
          "execution_count": 379
        }
      ]
    },
    {
      "cell_type": "code",
      "source": [
        "df['ship mode']"
      ],
      "metadata": {
        "id": "dkpS9OVycBNg",
        "colab": {
          "base_uri": "https://localhost:8080/"
        },
        "outputId": "82d9c68e-cba1-46b8-c983-8a8152b3c6b8"
      },
      "execution_count": 380,
      "outputs": [
        {
          "output_type": "execute_result",
          "data": {
            "text/plain": [
              "Row ID\n",
              "1         Second Class\n",
              "2         Second Class\n",
              "3         Second Class\n",
              "4       Standard Class\n",
              "5       Standard Class\n",
              "             ...      \n",
              "9796    Standard Class\n",
              "9797    Standard Class\n",
              "9798    Standard Class\n",
              "9799    Standard Class\n",
              "9800    Standard Class\n",
              "Name: ship mode, Length: 9799, dtype: object"
            ]
          },
          "metadata": {},
          "execution_count": 380
        }
      ]
    },
    {
      "cell_type": "code",
      "source": [
        "df['ship mode'].value_counts()"
      ],
      "metadata": {
        "id": "4ZJnwjQDcBNh",
        "colab": {
          "base_uri": "https://localhost:8080/"
        },
        "outputId": "b178e7f2-6bad-4250-e984-1287075b911e"
      },
      "execution_count": 381,
      "outputs": [
        {
          "output_type": "execute_result",
          "data": {
            "text/plain": [
              "Standard Class    5858\n",
              "Second Class      1902\n",
              "First Class       1501\n",
              "Same Day           538\n",
              "Name: ship mode, dtype: int64"
            ]
          },
          "metadata": {},
          "execution_count": 381
        }
      ]
    },
    {
      "cell_type": "code",
      "source": [],
      "metadata": {
        "id": "YOuKtKKsg2kx"
      },
      "execution_count": 381,
      "outputs": []
    },
    {
      "cell_type": "markdown",
      "source": [
        "### customer id"
      ],
      "metadata": {
        "id": "VMR45dgwg_7T"
      }
    },
    {
      "cell_type": "markdown",
      "source": [
        "Contains unique customer id."
      ],
      "metadata": {
        "id": "sJJCaShyg_7U"
      }
    },
    {
      "cell_type": "code",
      "source": [
        "df['customer id']=df_original['Customer ID'].copy()"
      ],
      "metadata": {
        "colab": {
          "base_uri": "https://localhost:8080/"
        },
        "id": "lziwpzkhg_7U",
        "outputId": "c11a4652-1094-42d1-f459-2079e966bafe"
      },
      "execution_count": 382,
      "outputs": [
        {
          "output_type": "stream",
          "name": "stderr",
          "text": [
            "<ipython-input-382-e1e4d45bd408>:1: SettingWithCopyWarning: \n",
            "A value is trying to be set on a copy of a slice from a DataFrame.\n",
            "Try using .loc[row_indexer,col_indexer] = value instead\n",
            "\n",
            "See the caveats in the documentation: https://pandas.pydata.org/pandas-docs/stable/user_guide/indexing.html#returning-a-view-versus-a-copy\n",
            "  df['customer id']=df_original['Customer ID'].copy()\n"
          ]
        }
      ]
    },
    {
      "cell_type": "code",
      "source": [
        "df['customer id']"
      ],
      "metadata": {
        "colab": {
          "base_uri": "https://localhost:8080/"
        },
        "outputId": "d68720eb-7708-44fe-91cc-1cdc098c398d",
        "id": "RcywQ6dHg_7U"
      },
      "execution_count": 383,
      "outputs": [
        {
          "output_type": "execute_result",
          "data": {
            "text/plain": [
              "Row ID\n",
              "1       CG-12520\n",
              "2       CG-12520\n",
              "3       DV-13045\n",
              "4       SO-20335\n",
              "5       SO-20335\n",
              "          ...   \n",
              "9796    SH-19975\n",
              "9797    CS-12490\n",
              "9798    CS-12490\n",
              "9799    CS-12490\n",
              "9800    CS-12490\n",
              "Name: customer id, Length: 9799, dtype: object"
            ]
          },
          "metadata": {},
          "execution_count": 383
        }
      ]
    },
    {
      "cell_type": "code",
      "source": [
        "df['customer id'].isna().sum()"
      ],
      "metadata": {
        "colab": {
          "base_uri": "https://localhost:8080/"
        },
        "outputId": "9487154f-e877-44e1-e794-2084312fde79",
        "id": "ftdwk6zbg_7V"
      },
      "execution_count": 384,
      "outputs": [
        {
          "output_type": "execute_result",
          "data": {
            "text/plain": [
              "0"
            ]
          },
          "metadata": {},
          "execution_count": 384
        }
      ]
    },
    {
      "cell_type": "code",
      "source": [
        "df['customer id'].dtype"
      ],
      "metadata": {
        "colab": {
          "base_uri": "https://localhost:8080/"
        },
        "outputId": "aa89e57d-e67c-4786-90dc-0d7419ae5e7f",
        "id": "_i9peInag_7V"
      },
      "execution_count": 385,
      "outputs": [
        {
          "output_type": "execute_result",
          "data": {
            "text/plain": [
              "dtype('O')"
            ]
          },
          "metadata": {},
          "execution_count": 385
        }
      ]
    },
    {
      "cell_type": "code",
      "source": [
        "df['customer id']"
      ],
      "metadata": {
        "colab": {
          "base_uri": "https://localhost:8080/"
        },
        "outputId": "c2293f48-68e8-40bc-e93a-38d138e82e20",
        "id": "9PrOX6dlg_7V"
      },
      "execution_count": 386,
      "outputs": [
        {
          "output_type": "execute_result",
          "data": {
            "text/plain": [
              "Row ID\n",
              "1       CG-12520\n",
              "2       CG-12520\n",
              "3       DV-13045\n",
              "4       SO-20335\n",
              "5       SO-20335\n",
              "          ...   \n",
              "9796    SH-19975\n",
              "9797    CS-12490\n",
              "9798    CS-12490\n",
              "9799    CS-12490\n",
              "9800    CS-12490\n",
              "Name: customer id, Length: 9799, dtype: object"
            ]
          },
          "metadata": {},
          "execution_count": 386
        }
      ]
    },
    {
      "cell_type": "code",
      "source": [
        "df['customer id'].value_counts()"
      ],
      "metadata": {
        "colab": {
          "base_uri": "https://localhost:8080/"
        },
        "outputId": "4ff6aad7-0e99-41ee-c334-790f417fb70d",
        "id": "CX_xDL65g_7V"
      },
      "execution_count": 387,
      "outputs": [
        {
          "output_type": "execute_result",
          "data": {
            "text/plain": [
              "WB-21850    35\n",
              "MA-17560    34\n",
              "PP-18955    34\n",
              "JL-15835    33\n",
              "CK-12205    32\n",
              "            ..\n",
              "JR-15700     1\n",
              "CJ-11875     1\n",
              "SC-20845     1\n",
              "RE-19405     1\n",
              "AO-10810     1\n",
              "Name: customer id, Length: 793, dtype: int64"
            ]
          },
          "metadata": {},
          "execution_count": 387
        }
      ]
    },
    {
      "cell_type": "code",
      "source": [],
      "metadata": {
        "id": "Q2KKdsT6kH89"
      },
      "execution_count": 387,
      "outputs": []
    },
    {
      "cell_type": "markdown",
      "source": [
        "### customer name"
      ],
      "metadata": {
        "id": "I4izyq4tkOHN"
      }
    },
    {
      "cell_type": "markdown",
      "source": [
        "Contains name of the customer."
      ],
      "metadata": {
        "id": "qmqaJLMqkOHO"
      }
    },
    {
      "cell_type": "code",
      "source": [
        "df['customer name']=df_original['Customer Name'].copy()"
      ],
      "metadata": {
        "colab": {
          "base_uri": "https://localhost:8080/"
        },
        "id": "WCiBhcELkOHO",
        "outputId": "4ff31420-455a-44a1-b9ed-99dd95fae665"
      },
      "execution_count": 388,
      "outputs": [
        {
          "output_type": "stream",
          "name": "stderr",
          "text": [
            "<ipython-input-388-0593b90ff05e>:1: SettingWithCopyWarning: \n",
            "A value is trying to be set on a copy of a slice from a DataFrame.\n",
            "Try using .loc[row_indexer,col_indexer] = value instead\n",
            "\n",
            "See the caveats in the documentation: https://pandas.pydata.org/pandas-docs/stable/user_guide/indexing.html#returning-a-view-versus-a-copy\n",
            "  df['customer name']=df_original['Customer Name'].copy()\n"
          ]
        }
      ]
    },
    {
      "cell_type": "code",
      "source": [
        "df['customer name']"
      ],
      "metadata": {
        "colab": {
          "base_uri": "https://localhost:8080/"
        },
        "outputId": "8c06b088-a268-4c6b-9651-5e0f8aa12a88",
        "id": "Wk0ZfkMPkOHO"
      },
      "execution_count": 389,
      "outputs": [
        {
          "output_type": "execute_result",
          "data": {
            "text/plain": [
              "Row ID\n",
              "1            Claire Gute\n",
              "2            Claire Gute\n",
              "3        Darrin Van Huff\n",
              "4         Sean O'Donnell\n",
              "5         Sean O'Donnell\n",
              "              ...       \n",
              "9796       Sally Hughsby\n",
              "9797    Cindy Schnelling\n",
              "9798    Cindy Schnelling\n",
              "9799    Cindy Schnelling\n",
              "9800    Cindy Schnelling\n",
              "Name: customer name, Length: 9799, dtype: object"
            ]
          },
          "metadata": {},
          "execution_count": 389
        }
      ]
    },
    {
      "cell_type": "code",
      "source": [
        "df['customer name'].isna().sum()"
      ],
      "metadata": {
        "colab": {
          "base_uri": "https://localhost:8080/"
        },
        "outputId": "a8ca6783-3bff-4e2e-9663-d26744214302",
        "id": "WGjRGqGZkOHP"
      },
      "execution_count": 390,
      "outputs": [
        {
          "output_type": "execute_result",
          "data": {
            "text/plain": [
              "0"
            ]
          },
          "metadata": {},
          "execution_count": 390
        }
      ]
    },
    {
      "cell_type": "code",
      "source": [
        "df['customer name'].dtype"
      ],
      "metadata": {
        "colab": {
          "base_uri": "https://localhost:8080/"
        },
        "outputId": "dae6d44e-41e7-4428-da1b-a33f0eb98704",
        "id": "IgaNwwQBkOHP"
      },
      "execution_count": 391,
      "outputs": [
        {
          "output_type": "execute_result",
          "data": {
            "text/plain": [
              "dtype('O')"
            ]
          },
          "metadata": {},
          "execution_count": 391
        }
      ]
    },
    {
      "cell_type": "code",
      "source": [
        "df['customer name']"
      ],
      "metadata": {
        "colab": {
          "base_uri": "https://localhost:8080/"
        },
        "outputId": "f17db3ef-254c-44df-8fff-29262ec8e3cd",
        "id": "ciQo8x-9kOHP"
      },
      "execution_count": 392,
      "outputs": [
        {
          "output_type": "execute_result",
          "data": {
            "text/plain": [
              "Row ID\n",
              "1            Claire Gute\n",
              "2            Claire Gute\n",
              "3        Darrin Van Huff\n",
              "4         Sean O'Donnell\n",
              "5         Sean O'Donnell\n",
              "              ...       \n",
              "9796       Sally Hughsby\n",
              "9797    Cindy Schnelling\n",
              "9798    Cindy Schnelling\n",
              "9799    Cindy Schnelling\n",
              "9800    Cindy Schnelling\n",
              "Name: customer name, Length: 9799, dtype: object"
            ]
          },
          "metadata": {},
          "execution_count": 392
        }
      ]
    },
    {
      "cell_type": "code",
      "source": [
        "df['customer name'].value_counts()"
      ],
      "metadata": {
        "colab": {
          "base_uri": "https://localhost:8080/"
        },
        "outputId": "9e169c65-b334-4154-aa1e-93fc4369efb1",
        "id": "7ohGPgX7kOHQ"
      },
      "execution_count": 393,
      "outputs": [
        {
          "output_type": "execute_result",
          "data": {
            "text/plain": [
              "William Brown          35\n",
              "Matt Abelman           34\n",
              "Paul Prost             34\n",
              "John Lee               33\n",
              "Chloris Kastensmidt    32\n",
              "                       ..\n",
              "Jocasta Rupert          1\n",
              "Carl Jackson            1\n",
              "Sung Chung              1\n",
              "Ricardo Emerson         1\n",
              "Anthony O'Donnell       1\n",
              "Name: customer name, Length: 793, dtype: int64"
            ]
          },
          "metadata": {},
          "execution_count": 393
        }
      ]
    },
    {
      "cell_type": "code",
      "source": [],
      "metadata": {
        "id": "_iiDZKuQkian"
      },
      "execution_count": 393,
      "outputs": []
    },
    {
      "cell_type": "markdown",
      "source": [
        "### segment"
      ],
      "metadata": {
        "id": "JN1L_1whks2R"
      }
    },
    {
      "cell_type": "markdown",
      "source": [
        "Contains information about segment."
      ],
      "metadata": {
        "id": "cvcsrQTfks2R"
      }
    },
    {
      "cell_type": "code",
      "source": [
        "df['segment']=df_original['Segment'].copy()"
      ],
      "metadata": {
        "colab": {
          "base_uri": "https://localhost:8080/"
        },
        "id": "kaB7WFmBks2R",
        "outputId": "7624f317-857c-46e1-b7ab-ef7a358485e5"
      },
      "execution_count": 394,
      "outputs": [
        {
          "output_type": "stream",
          "name": "stderr",
          "text": [
            "<ipython-input-394-3c83c9cfefee>:1: SettingWithCopyWarning: \n",
            "A value is trying to be set on a copy of a slice from a DataFrame.\n",
            "Try using .loc[row_indexer,col_indexer] = value instead\n",
            "\n",
            "See the caveats in the documentation: https://pandas.pydata.org/pandas-docs/stable/user_guide/indexing.html#returning-a-view-versus-a-copy\n",
            "  df['segment']=df_original['Segment'].copy()\n"
          ]
        }
      ]
    },
    {
      "cell_type": "code",
      "source": [
        "df['segment']"
      ],
      "metadata": {
        "colab": {
          "base_uri": "https://localhost:8080/"
        },
        "outputId": "e72f59c9-f296-47f0-8ecb-0cf3d4f06b4c",
        "id": "fYc0QBSlks2S"
      },
      "execution_count": 395,
      "outputs": [
        {
          "output_type": "execute_result",
          "data": {
            "text/plain": [
              "Row ID\n",
              "1        Consumer\n",
              "2        Consumer\n",
              "3       Corporate\n",
              "4        Consumer\n",
              "5        Consumer\n",
              "          ...    \n",
              "9796    Corporate\n",
              "9797    Corporate\n",
              "9798    Corporate\n",
              "9799    Corporate\n",
              "9800    Corporate\n",
              "Name: segment, Length: 9799, dtype: object"
            ]
          },
          "metadata": {},
          "execution_count": 395
        }
      ]
    },
    {
      "cell_type": "code",
      "source": [
        "df['segment'].isna().sum()"
      ],
      "metadata": {
        "colab": {
          "base_uri": "https://localhost:8080/"
        },
        "outputId": "84db33b9-1240-40b3-8626-dd74804325c4",
        "id": "ze3DhROeks2S"
      },
      "execution_count": 396,
      "outputs": [
        {
          "output_type": "execute_result",
          "data": {
            "text/plain": [
              "0"
            ]
          },
          "metadata": {},
          "execution_count": 396
        }
      ]
    },
    {
      "cell_type": "code",
      "source": [
        "df['segment'].dtype"
      ],
      "metadata": {
        "colab": {
          "base_uri": "https://localhost:8080/"
        },
        "outputId": "0c48758a-8738-423c-bb97-68e58b7354a8",
        "id": "nLdq41E1ks2S"
      },
      "execution_count": 397,
      "outputs": [
        {
          "output_type": "execute_result",
          "data": {
            "text/plain": [
              "dtype('O')"
            ]
          },
          "metadata": {},
          "execution_count": 397
        }
      ]
    },
    {
      "cell_type": "code",
      "source": [
        "df['segment']"
      ],
      "metadata": {
        "colab": {
          "base_uri": "https://localhost:8080/"
        },
        "outputId": "a4e1c7b7-2600-4b16-ecf1-45a472aad191",
        "id": "1QbeHu2Vks2T"
      },
      "execution_count": 398,
      "outputs": [
        {
          "output_type": "execute_result",
          "data": {
            "text/plain": [
              "Row ID\n",
              "1        Consumer\n",
              "2        Consumer\n",
              "3       Corporate\n",
              "4        Consumer\n",
              "5        Consumer\n",
              "          ...    \n",
              "9796    Corporate\n",
              "9797    Corporate\n",
              "9798    Corporate\n",
              "9799    Corporate\n",
              "9800    Corporate\n",
              "Name: segment, Length: 9799, dtype: object"
            ]
          },
          "metadata": {},
          "execution_count": 398
        }
      ]
    },
    {
      "cell_type": "code",
      "source": [
        "df['segment'].value_counts()"
      ],
      "metadata": {
        "colab": {
          "base_uri": "https://localhost:8080/"
        },
        "outputId": "7345b591-5e9b-48f6-b32f-688aa4a12c29",
        "id": "TKMXXvzjks2T"
      },
      "execution_count": 399,
      "outputs": [
        {
          "output_type": "execute_result",
          "data": {
            "text/plain": [
              "Consumer       5101\n",
              "Corporate      2953\n",
              "Home Office    1745\n",
              "Name: segment, dtype: int64"
            ]
          },
          "metadata": {},
          "execution_count": 399
        }
      ]
    },
    {
      "cell_type": "code",
      "source": [],
      "metadata": {
        "id": "Cyp5Zk90lDfL"
      },
      "execution_count": 399,
      "outputs": []
    },
    {
      "cell_type": "markdown",
      "source": [
        "### country"
      ],
      "metadata": {
        "id": "mjiPorQtlIYm"
      }
    },
    {
      "cell_type": "markdown",
      "source": [
        "Contains information about country."
      ],
      "metadata": {
        "id": "igyA-VOvlIYw"
      }
    },
    {
      "cell_type": "code",
      "source": [
        "df['country']=df_original['Country'].copy()"
      ],
      "metadata": {
        "colab": {
          "base_uri": "https://localhost:8080/"
        },
        "id": "TFevIc-UlIYw",
        "outputId": "71f2b2a0-dc3f-47e9-96c5-86edf77ddeb2"
      },
      "execution_count": 400,
      "outputs": [
        {
          "output_type": "stream",
          "name": "stderr",
          "text": [
            "<ipython-input-400-10a77251d16b>:1: SettingWithCopyWarning: \n",
            "A value is trying to be set on a copy of a slice from a DataFrame.\n",
            "Try using .loc[row_indexer,col_indexer] = value instead\n",
            "\n",
            "See the caveats in the documentation: https://pandas.pydata.org/pandas-docs/stable/user_guide/indexing.html#returning-a-view-versus-a-copy\n",
            "  df['country']=df_original['Country'].copy()\n"
          ]
        }
      ]
    },
    {
      "cell_type": "code",
      "source": [
        "df['country']"
      ],
      "metadata": {
        "colab": {
          "base_uri": "https://localhost:8080/"
        },
        "outputId": "3ad7ee41-d640-46a9-ccb3-f7c52ea1673b",
        "id": "VUIn2E6jlIYw"
      },
      "execution_count": 401,
      "outputs": [
        {
          "output_type": "execute_result",
          "data": {
            "text/plain": [
              "Row ID\n",
              "1       United States\n",
              "2       United States\n",
              "3       United States\n",
              "4       United States\n",
              "5       United States\n",
              "            ...      \n",
              "9796    United States\n",
              "9797    United States\n",
              "9798    United States\n",
              "9799    United States\n",
              "9800    United States\n",
              "Name: country, Length: 9799, dtype: object"
            ]
          },
          "metadata": {},
          "execution_count": 401
        }
      ]
    },
    {
      "cell_type": "code",
      "source": [
        "df['country'].isna().sum()"
      ],
      "metadata": {
        "colab": {
          "base_uri": "https://localhost:8080/"
        },
        "outputId": "ad257fd9-fc70-476c-d3e7-432005d66f39",
        "id": "zGcP8TOMlIYx"
      },
      "execution_count": 402,
      "outputs": [
        {
          "output_type": "execute_result",
          "data": {
            "text/plain": [
              "0"
            ]
          },
          "metadata": {},
          "execution_count": 402
        }
      ]
    },
    {
      "cell_type": "code",
      "source": [
        "df['country'].dtype"
      ],
      "metadata": {
        "colab": {
          "base_uri": "https://localhost:8080/"
        },
        "outputId": "630e1043-c98a-4ca8-9d45-a7803e9cb260",
        "id": "mGzziwmYlIYx"
      },
      "execution_count": 403,
      "outputs": [
        {
          "output_type": "execute_result",
          "data": {
            "text/plain": [
              "dtype('O')"
            ]
          },
          "metadata": {},
          "execution_count": 403
        }
      ]
    },
    {
      "cell_type": "code",
      "source": [
        "df['country']"
      ],
      "metadata": {
        "colab": {
          "base_uri": "https://localhost:8080/"
        },
        "outputId": "9f1bbacd-cfe8-49fd-8b8f-e50e5c5ec300",
        "id": "Bu8ViPX1lIYx"
      },
      "execution_count": 404,
      "outputs": [
        {
          "output_type": "execute_result",
          "data": {
            "text/plain": [
              "Row ID\n",
              "1       United States\n",
              "2       United States\n",
              "3       United States\n",
              "4       United States\n",
              "5       United States\n",
              "            ...      \n",
              "9796    United States\n",
              "9797    United States\n",
              "9798    United States\n",
              "9799    United States\n",
              "9800    United States\n",
              "Name: country, Length: 9799, dtype: object"
            ]
          },
          "metadata": {},
          "execution_count": 404
        }
      ]
    },
    {
      "cell_type": "code",
      "source": [
        "df['country'].value_counts()"
      ],
      "metadata": {
        "colab": {
          "base_uri": "https://localhost:8080/"
        },
        "outputId": "059b246a-6540-4a98-b62a-0db9b2055052",
        "id": "i_qOKNwAlIYx"
      },
      "execution_count": 405,
      "outputs": [
        {
          "output_type": "execute_result",
          "data": {
            "text/plain": [
              "United States    9799\n",
              "Name: country, dtype: int64"
            ]
          },
          "metadata": {},
          "execution_count": 405
        }
      ]
    },
    {
      "cell_type": "code",
      "source": [],
      "metadata": {
        "id": "zD8oiO3Vlbd8"
      },
      "execution_count": 405,
      "outputs": []
    },
    {
      "cell_type": "markdown",
      "source": [
        "### city"
      ],
      "metadata": {
        "id": "rNSYrcuBmn_F"
      }
    },
    {
      "cell_type": "markdown",
      "source": [
        "Contains information about city."
      ],
      "metadata": {
        "id": "dkiu2uyLmn_G"
      }
    },
    {
      "cell_type": "code",
      "source": [
        "df['city']=df_original['City'].copy()"
      ],
      "metadata": {
        "colab": {
          "base_uri": "https://localhost:8080/"
        },
        "outputId": "481ab704-fd5c-4fee-fb77-79fcf4fa514d",
        "id": "2OtmxYa-mn_G"
      },
      "execution_count": 406,
      "outputs": [
        {
          "output_type": "stream",
          "name": "stderr",
          "text": [
            "<ipython-input-406-94be4402e0f3>:1: SettingWithCopyWarning: \n",
            "A value is trying to be set on a copy of a slice from a DataFrame.\n",
            "Try using .loc[row_indexer,col_indexer] = value instead\n",
            "\n",
            "See the caveats in the documentation: https://pandas.pydata.org/pandas-docs/stable/user_guide/indexing.html#returning-a-view-versus-a-copy\n",
            "  df['city']=df_original['City'].copy()\n"
          ]
        }
      ]
    },
    {
      "cell_type": "code",
      "source": [
        "df['city']"
      ],
      "metadata": {
        "colab": {
          "base_uri": "https://localhost:8080/"
        },
        "outputId": "065b4994-545a-4179-d0c6-04a659a0d747",
        "id": "xUXBcxVamn_G"
      },
      "execution_count": 407,
      "outputs": [
        {
          "output_type": "execute_result",
          "data": {
            "text/plain": [
              "Row ID\n",
              "1             Henderson\n",
              "2             Henderson\n",
              "3           Los Angeles\n",
              "4       Fort Lauderdale\n",
              "5       Fort Lauderdale\n",
              "             ...       \n",
              "9796            Chicago\n",
              "9797             Toledo\n",
              "9798             Toledo\n",
              "9799             Toledo\n",
              "9800             Toledo\n",
              "Name: city, Length: 9799, dtype: object"
            ]
          },
          "metadata": {},
          "execution_count": 407
        }
      ]
    },
    {
      "cell_type": "code",
      "source": [
        "df['city'].isna().sum()"
      ],
      "metadata": {
        "colab": {
          "base_uri": "https://localhost:8080/"
        },
        "outputId": "b134742f-122a-469e-a080-802a20dfab7c",
        "id": "a0fSlTfVmn_G"
      },
      "execution_count": 408,
      "outputs": [
        {
          "output_type": "execute_result",
          "data": {
            "text/plain": [
              "0"
            ]
          },
          "metadata": {},
          "execution_count": 408
        }
      ]
    },
    {
      "cell_type": "code",
      "source": [
        "df['city'].dtype"
      ],
      "metadata": {
        "colab": {
          "base_uri": "https://localhost:8080/"
        },
        "outputId": "a04c1a80-547b-466c-9faf-72664c3361bf",
        "id": "TL35Dwyomn_H"
      },
      "execution_count": 409,
      "outputs": [
        {
          "output_type": "execute_result",
          "data": {
            "text/plain": [
              "dtype('O')"
            ]
          },
          "metadata": {},
          "execution_count": 409
        }
      ]
    },
    {
      "cell_type": "code",
      "source": [
        "df['country'].value_counts()"
      ],
      "metadata": {
        "colab": {
          "base_uri": "https://localhost:8080/"
        },
        "outputId": "c0ff3bdd-2099-4916-89f3-f2aa6a0bdc48",
        "id": "mEGsS9zFmn_H"
      },
      "execution_count": 410,
      "outputs": [
        {
          "output_type": "execute_result",
          "data": {
            "text/plain": [
              "United States    9799\n",
              "Name: country, dtype: int64"
            ]
          },
          "metadata": {},
          "execution_count": 410
        }
      ]
    },
    {
      "cell_type": "code",
      "source": [],
      "metadata": {
        "id": "Pgzn8N1gm8Sm"
      },
      "execution_count": 410,
      "outputs": []
    },
    {
      "cell_type": "markdown",
      "source": [
        "### state"
      ],
      "metadata": {
        "id": "_xDBryUdnEnn"
      }
    },
    {
      "cell_type": "markdown",
      "source": [
        "Contains information about state."
      ],
      "metadata": {
        "id": "kIYQER58nEnw"
      }
    },
    {
      "cell_type": "code",
      "source": [
        "df['state']=df_original['State'].copy()"
      ],
      "metadata": {
        "colab": {
          "base_uri": "https://localhost:8080/"
        },
        "outputId": "5f443267-ba7a-4d5f-9c79-674b99ec12dc",
        "id": "HL7fbnFZnEnw"
      },
      "execution_count": 411,
      "outputs": [
        {
          "output_type": "stream",
          "name": "stderr",
          "text": [
            "<ipython-input-411-431390327070>:1: SettingWithCopyWarning: \n",
            "A value is trying to be set on a copy of a slice from a DataFrame.\n",
            "Try using .loc[row_indexer,col_indexer] = value instead\n",
            "\n",
            "See the caveats in the documentation: https://pandas.pydata.org/pandas-docs/stable/user_guide/indexing.html#returning-a-view-versus-a-copy\n",
            "  df['state']=df_original['State'].copy()\n"
          ]
        }
      ]
    },
    {
      "cell_type": "code",
      "source": [
        "df['state']"
      ],
      "metadata": {
        "colab": {
          "base_uri": "https://localhost:8080/"
        },
        "outputId": "d1a41195-cd90-44ab-cf0b-7f24b3be7221",
        "id": "tJkdxlSLnEnw"
      },
      "execution_count": 412,
      "outputs": [
        {
          "output_type": "execute_result",
          "data": {
            "text/plain": [
              "Row ID\n",
              "1         Kentucky\n",
              "2         Kentucky\n",
              "3       California\n",
              "4          Florida\n",
              "5          Florida\n",
              "           ...    \n",
              "9796      Illinois\n",
              "9797          Ohio\n",
              "9798          Ohio\n",
              "9799          Ohio\n",
              "9800          Ohio\n",
              "Name: state, Length: 9799, dtype: object"
            ]
          },
          "metadata": {},
          "execution_count": 412
        }
      ]
    },
    {
      "cell_type": "code",
      "source": [
        "df['state'].isna().sum()"
      ],
      "metadata": {
        "colab": {
          "base_uri": "https://localhost:8080/"
        },
        "outputId": "1416064c-9393-4e75-8bef-7eb6412f6f62",
        "id": "XSpzpPuonEnw"
      },
      "execution_count": 413,
      "outputs": [
        {
          "output_type": "execute_result",
          "data": {
            "text/plain": [
              "0"
            ]
          },
          "metadata": {},
          "execution_count": 413
        }
      ]
    },
    {
      "cell_type": "code",
      "source": [
        "df['state'].dtype"
      ],
      "metadata": {
        "colab": {
          "base_uri": "https://localhost:8080/"
        },
        "outputId": "fccd4285-130d-4fb0-9db4-684a6b1c1b99",
        "id": "hFH2IPx9nEnw"
      },
      "execution_count": 414,
      "outputs": [
        {
          "output_type": "execute_result",
          "data": {
            "text/plain": [
              "dtype('O')"
            ]
          },
          "metadata": {},
          "execution_count": 414
        }
      ]
    },
    {
      "cell_type": "code",
      "source": [
        "df['state'].value_counts()"
      ],
      "metadata": {
        "colab": {
          "base_uri": "https://localhost:8080/"
        },
        "outputId": "ee2b8aa4-af53-43e6-c8b4-1b66f455d2d8",
        "id": "x0bAu_g6nEnx"
      },
      "execution_count": 415,
      "outputs": [
        {
          "output_type": "execute_result",
          "data": {
            "text/plain": [
              "California              1946\n",
              "New York                1097\n",
              "Texas                    973\n",
              "Pennsylvania             582\n",
              "Washington               504\n",
              "Illinois                 483\n",
              "Ohio                     453\n",
              "Florida                  373\n",
              "Michigan                 253\n",
              "North Carolina           247\n",
              "Virginia                 224\n",
              "Arizona                  223\n",
              "Tennessee                183\n",
              "Colorado                 179\n",
              "Georgia                  177\n",
              "Kentucky                 137\n",
              "Indiana                  135\n",
              "Massachusetts            135\n",
              "Oregon                   122\n",
              "New Jersey               122\n",
              "Maryland                 105\n",
              "Wisconsin                105\n",
              "Delaware                  93\n",
              "Minnesota                 89\n",
              "Connecticut               82\n",
              "Missouri                  66\n",
              "Oklahoma                  66\n",
              "Alabama                   61\n",
              "Arkansas                  60\n",
              "Rhode Island              55\n",
              "Mississippi               53\n",
              "Utah                      53\n",
              "South Carolina            42\n",
              "Louisiana                 41\n",
              "Nevada                    39\n",
              "Nebraska                  38\n",
              "New Mexico                37\n",
              "New Hampshire             27\n",
              "Iowa                      26\n",
              "Kansas                    24\n",
              "Idaho                     21\n",
              "Montana                   15\n",
              "South Dakota              12\n",
              "Vermont                   11\n",
              "District of Columbia      10\n",
              "Maine                      8\n",
              "North Dakota               7\n",
              "West Virginia              4\n",
              "Wyoming                    1\n",
              "Name: state, dtype: int64"
            ]
          },
          "metadata": {},
          "execution_count": 415
        }
      ]
    },
    {
      "cell_type": "code",
      "source": [],
      "metadata": {
        "id": "JhJPrC3nnX3q"
      },
      "execution_count": 415,
      "outputs": []
    },
    {
      "cell_type": "markdown",
      "source": [
        "### postal code"
      ],
      "metadata": {
        "id": "RGUgdBrCoRs1"
      }
    },
    {
      "cell_type": "markdown",
      "source": [
        "Contains information about postal code."
      ],
      "metadata": {
        "id": "eXpRmlTaoRs2"
      }
    },
    {
      "cell_type": "code",
      "source": [
        "df['postal code']=df_original['Postal Code'].copy()"
      ],
      "metadata": {
        "colab": {
          "base_uri": "https://localhost:8080/"
        },
        "outputId": "b06315ed-0a96-4acb-fc8b-33b76f3aa16a",
        "id": "YDXEUJP9oRs2"
      },
      "execution_count": 416,
      "outputs": [
        {
          "output_type": "stream",
          "name": "stderr",
          "text": [
            "<ipython-input-416-405d339d3ea9>:1: SettingWithCopyWarning: \n",
            "A value is trying to be set on a copy of a slice from a DataFrame.\n",
            "Try using .loc[row_indexer,col_indexer] = value instead\n",
            "\n",
            "See the caveats in the documentation: https://pandas.pydata.org/pandas-docs/stable/user_guide/indexing.html#returning-a-view-versus-a-copy\n",
            "  df['postal code']=df_original['Postal Code'].copy()\n"
          ]
        }
      ]
    },
    {
      "cell_type": "code",
      "source": [
        "df['postal code']"
      ],
      "metadata": {
        "colab": {
          "base_uri": "https://localhost:8080/"
        },
        "outputId": "dfc56e89-7a6c-422d-bb00-3722fa35bf4d",
        "id": "d-4syiKfoRs2"
      },
      "execution_count": 417,
      "outputs": [
        {
          "output_type": "execute_result",
          "data": {
            "text/plain": [
              "Row ID\n",
              "1       42420.0\n",
              "2       42420.0\n",
              "3       90036.0\n",
              "4       33311.0\n",
              "5       33311.0\n",
              "         ...   \n",
              "9796    60610.0\n",
              "9797    43615.0\n",
              "9798    43615.0\n",
              "9799    43615.0\n",
              "9800    43615.0\n",
              "Name: postal code, Length: 9799, dtype: float64"
            ]
          },
          "metadata": {},
          "execution_count": 417
        }
      ]
    },
    {
      "cell_type": "code",
      "source": [
        "df['postal code'].isnull().sum()"
      ],
      "metadata": {
        "colab": {
          "base_uri": "https://localhost:8080/"
        },
        "outputId": "527f3cf9-601e-4f2e-e363-37061e07b939",
        "id": "f48ChihqoRs3"
      },
      "execution_count": 418,
      "outputs": [
        {
          "output_type": "execute_result",
          "data": {
            "text/plain": [
              "11"
            ]
          },
          "metadata": {},
          "execution_count": 418
        }
      ]
    },
    {
      "cell_type": "markdown",
      "source": [
        "Since we dont have any idea about postal code of Vermont\tstate we should fill it with 0."
      ],
      "metadata": {
        "id": "ShL9UAGgthG4"
      }
    },
    {
      "cell_type": "code",
      "source": [
        "df[df['postal code'].isnull()]"
      ],
      "metadata": {
        "colab": {
          "base_uri": "https://localhost:8080/",
          "height": 0
        },
        "id": "N57dfLFOprSm",
        "outputId": "789b5523-6916-4173-e6a9-e7498ea2dd6c"
      },
      "execution_count": 419,
      "outputs": [
        {
          "output_type": "execute_result",
          "data": {
            "text/plain": [
              "              order id order date  ship date       ship mode customer id  \\\n",
              "Row ID                                                                     \n",
              "2235    CA-2018-104066 2018-05-12 2018-10-12  Standard Class    QJ-19255   \n",
              "5275    CA-2016-162887 2016-07-11 2016-09-11    Second Class    SV-20785   \n",
              "8799    US-2017-150140 2017-06-04 2017-10-04  Standard Class    VM-21685   \n",
              "9147    US-2017-165505 2017-01-23 2017-01-27  Standard Class    CB-12535   \n",
              "9148    US-2017-165505 2017-01-23 2017-01-27  Standard Class    CB-12535   \n",
              "9149    US-2017-165505 2017-01-23 2017-01-27  Standard Class    CB-12535   \n",
              "9387    US-2018-127292 2018-01-19 2018-01-23  Standard Class    RM-19375   \n",
              "9388    US-2018-127292 2018-01-19 2018-01-23  Standard Class    RM-19375   \n",
              "9389    US-2018-127292 2018-01-19 2018-01-23  Standard Class    RM-19375   \n",
              "9390    US-2018-127292 2018-01-19 2018-01-23  Standard Class    RM-19375   \n",
              "9742    CA-2016-117086 2016-08-11 2016-12-11  Standard Class    QJ-19255   \n",
              "\n",
              "           customer name      segment        country        city    state  \\\n",
              "Row ID                                                                      \n",
              "2235        Quincy Jones    Corporate  United States  Burlington  Vermont   \n",
              "5275    Stewart Visinsky     Consumer  United States  Burlington  Vermont   \n",
              "8799     Valerie Mitchum  Home Office  United States  Burlington  Vermont   \n",
              "9147    Claudia Bergmann    Corporate  United States  Burlington  Vermont   \n",
              "9148    Claudia Bergmann    Corporate  United States  Burlington  Vermont   \n",
              "9149    Claudia Bergmann    Corporate  United States  Burlington  Vermont   \n",
              "9387       Raymond Messe     Consumer  United States  Burlington  Vermont   \n",
              "9388       Raymond Messe     Consumer  United States  Burlington  Vermont   \n",
              "9389       Raymond Messe     Consumer  United States  Burlington  Vermont   \n",
              "9390       Raymond Messe     Consumer  United States  Burlington  Vermont   \n",
              "9742        Quincy Jones    Corporate  United States  Burlington  Vermont   \n",
              "\n",
              "        postal code region       product id         category sub-category  \\\n",
              "Row ID                                                                      \n",
              "2235            NaN   East  TEC-AC-10001013       Technology  Accessories   \n",
              "5275            NaN   East  FUR-CH-10000595        Furniture       Chairs   \n",
              "8799            NaN   East  TEC-PH-10002555       Technology       Phones   \n",
              "9147            NaN   East  TEC-AC-10002926       Technology  Accessories   \n",
              "9148            NaN   East  OFF-AR-10003477  Office Supplies          Art   \n",
              "9149            NaN   East  OFF-ST-10001526  Office Supplies      Storage   \n",
              "9387            NaN   East  OFF-PA-10000157  Office Supplies        Paper   \n",
              "9388            NaN   East  OFF-PA-10001970  Office Supplies        Paper   \n",
              "9389            NaN   East  OFF-AP-10000828  Office Supplies   Appliances   \n",
              "9390            NaN   East  OFF-EN-10001509  Office Supplies    Envelopes   \n",
              "9742            NaN   East  FUR-BO-10004834        Furniture    Bookcases   \n",
              "\n",
              "                                             product name    sales  \n",
              "Row ID                                                              \n",
              "2235          Logitech ClearChat Comfort/USB Headset H390   205.03  \n",
              "5275                      Safco Contoured Stacking Chairs   715.20  \n",
              "8799                  Nortel Meridian M5316 Digital phone  1294.75  \n",
              "9147                Logitech Wireless Marathon Mouse M705    99.98  \n",
              "9148                                    4009 Highlighters     8.04  \n",
              "9149                Iceberg Mobile Mega Data/Printer Cart  1564.29  \n",
              "9387                                            Xerox 191    79.92  \n",
              "9388                                           Xerox 1881    12.28  \n",
              "9389                      Avanti 4.4 Cu. Ft. Refrigerator   542.94  \n",
              "9390                            Poly String Tie Envelopes     2.04  \n",
              "9742    Riverside Palais Royal Lawyers Bookcase, Royal...  4404.90  "
            ],
            "text/html": [
              "\n",
              "  <div id=\"df-1c35fb63-93ce-43fb-bc8e-286c1826e329\" class=\"colab-df-container\">\n",
              "    <div>\n",
              "<style scoped>\n",
              "    .dataframe tbody tr th:only-of-type {\n",
              "        vertical-align: middle;\n",
              "    }\n",
              "\n",
              "    .dataframe tbody tr th {\n",
              "        vertical-align: top;\n",
              "    }\n",
              "\n",
              "    .dataframe thead th {\n",
              "        text-align: right;\n",
              "    }\n",
              "</style>\n",
              "<table border=\"1\" class=\"dataframe\">\n",
              "  <thead>\n",
              "    <tr style=\"text-align: right;\">\n",
              "      <th></th>\n",
              "      <th>order id</th>\n",
              "      <th>order date</th>\n",
              "      <th>ship date</th>\n",
              "      <th>ship mode</th>\n",
              "      <th>customer id</th>\n",
              "      <th>customer name</th>\n",
              "      <th>segment</th>\n",
              "      <th>country</th>\n",
              "      <th>city</th>\n",
              "      <th>state</th>\n",
              "      <th>postal code</th>\n",
              "      <th>region</th>\n",
              "      <th>product id</th>\n",
              "      <th>category</th>\n",
              "      <th>sub-category</th>\n",
              "      <th>product name</th>\n",
              "      <th>sales</th>\n",
              "    </tr>\n",
              "    <tr>\n",
              "      <th>Row ID</th>\n",
              "      <th></th>\n",
              "      <th></th>\n",
              "      <th></th>\n",
              "      <th></th>\n",
              "      <th></th>\n",
              "      <th></th>\n",
              "      <th></th>\n",
              "      <th></th>\n",
              "      <th></th>\n",
              "      <th></th>\n",
              "      <th></th>\n",
              "      <th></th>\n",
              "      <th></th>\n",
              "      <th></th>\n",
              "      <th></th>\n",
              "      <th></th>\n",
              "      <th></th>\n",
              "    </tr>\n",
              "  </thead>\n",
              "  <tbody>\n",
              "    <tr>\n",
              "      <th>2235</th>\n",
              "      <td>CA-2018-104066</td>\n",
              "      <td>2018-05-12</td>\n",
              "      <td>2018-10-12</td>\n",
              "      <td>Standard Class</td>\n",
              "      <td>QJ-19255</td>\n",
              "      <td>Quincy Jones</td>\n",
              "      <td>Corporate</td>\n",
              "      <td>United States</td>\n",
              "      <td>Burlington</td>\n",
              "      <td>Vermont</td>\n",
              "      <td>NaN</td>\n",
              "      <td>East</td>\n",
              "      <td>TEC-AC-10001013</td>\n",
              "      <td>Technology</td>\n",
              "      <td>Accessories</td>\n",
              "      <td>Logitech ClearChat Comfort/USB Headset H390</td>\n",
              "      <td>205.03</td>\n",
              "    </tr>\n",
              "    <tr>\n",
              "      <th>5275</th>\n",
              "      <td>CA-2016-162887</td>\n",
              "      <td>2016-07-11</td>\n",
              "      <td>2016-09-11</td>\n",
              "      <td>Second Class</td>\n",
              "      <td>SV-20785</td>\n",
              "      <td>Stewart Visinsky</td>\n",
              "      <td>Consumer</td>\n",
              "      <td>United States</td>\n",
              "      <td>Burlington</td>\n",
              "      <td>Vermont</td>\n",
              "      <td>NaN</td>\n",
              "      <td>East</td>\n",
              "      <td>FUR-CH-10000595</td>\n",
              "      <td>Furniture</td>\n",
              "      <td>Chairs</td>\n",
              "      <td>Safco Contoured Stacking Chairs</td>\n",
              "      <td>715.20</td>\n",
              "    </tr>\n",
              "    <tr>\n",
              "      <th>8799</th>\n",
              "      <td>US-2017-150140</td>\n",
              "      <td>2017-06-04</td>\n",
              "      <td>2017-10-04</td>\n",
              "      <td>Standard Class</td>\n",
              "      <td>VM-21685</td>\n",
              "      <td>Valerie Mitchum</td>\n",
              "      <td>Home Office</td>\n",
              "      <td>United States</td>\n",
              "      <td>Burlington</td>\n",
              "      <td>Vermont</td>\n",
              "      <td>NaN</td>\n",
              "      <td>East</td>\n",
              "      <td>TEC-PH-10002555</td>\n",
              "      <td>Technology</td>\n",
              "      <td>Phones</td>\n",
              "      <td>Nortel Meridian M5316 Digital phone</td>\n",
              "      <td>1294.75</td>\n",
              "    </tr>\n",
              "    <tr>\n",
              "      <th>9147</th>\n",
              "      <td>US-2017-165505</td>\n",
              "      <td>2017-01-23</td>\n",
              "      <td>2017-01-27</td>\n",
              "      <td>Standard Class</td>\n",
              "      <td>CB-12535</td>\n",
              "      <td>Claudia Bergmann</td>\n",
              "      <td>Corporate</td>\n",
              "      <td>United States</td>\n",
              "      <td>Burlington</td>\n",
              "      <td>Vermont</td>\n",
              "      <td>NaN</td>\n",
              "      <td>East</td>\n",
              "      <td>TEC-AC-10002926</td>\n",
              "      <td>Technology</td>\n",
              "      <td>Accessories</td>\n",
              "      <td>Logitech Wireless Marathon Mouse M705</td>\n",
              "      <td>99.98</td>\n",
              "    </tr>\n",
              "    <tr>\n",
              "      <th>9148</th>\n",
              "      <td>US-2017-165505</td>\n",
              "      <td>2017-01-23</td>\n",
              "      <td>2017-01-27</td>\n",
              "      <td>Standard Class</td>\n",
              "      <td>CB-12535</td>\n",
              "      <td>Claudia Bergmann</td>\n",
              "      <td>Corporate</td>\n",
              "      <td>United States</td>\n",
              "      <td>Burlington</td>\n",
              "      <td>Vermont</td>\n",
              "      <td>NaN</td>\n",
              "      <td>East</td>\n",
              "      <td>OFF-AR-10003477</td>\n",
              "      <td>Office Supplies</td>\n",
              "      <td>Art</td>\n",
              "      <td>4009 Highlighters</td>\n",
              "      <td>8.04</td>\n",
              "    </tr>\n",
              "    <tr>\n",
              "      <th>9149</th>\n",
              "      <td>US-2017-165505</td>\n",
              "      <td>2017-01-23</td>\n",
              "      <td>2017-01-27</td>\n",
              "      <td>Standard Class</td>\n",
              "      <td>CB-12535</td>\n",
              "      <td>Claudia Bergmann</td>\n",
              "      <td>Corporate</td>\n",
              "      <td>United States</td>\n",
              "      <td>Burlington</td>\n",
              "      <td>Vermont</td>\n",
              "      <td>NaN</td>\n",
              "      <td>East</td>\n",
              "      <td>OFF-ST-10001526</td>\n",
              "      <td>Office Supplies</td>\n",
              "      <td>Storage</td>\n",
              "      <td>Iceberg Mobile Mega Data/Printer Cart</td>\n",
              "      <td>1564.29</td>\n",
              "    </tr>\n",
              "    <tr>\n",
              "      <th>9387</th>\n",
              "      <td>US-2018-127292</td>\n",
              "      <td>2018-01-19</td>\n",
              "      <td>2018-01-23</td>\n",
              "      <td>Standard Class</td>\n",
              "      <td>RM-19375</td>\n",
              "      <td>Raymond Messe</td>\n",
              "      <td>Consumer</td>\n",
              "      <td>United States</td>\n",
              "      <td>Burlington</td>\n",
              "      <td>Vermont</td>\n",
              "      <td>NaN</td>\n",
              "      <td>East</td>\n",
              "      <td>OFF-PA-10000157</td>\n",
              "      <td>Office Supplies</td>\n",
              "      <td>Paper</td>\n",
              "      <td>Xerox 191</td>\n",
              "      <td>79.92</td>\n",
              "    </tr>\n",
              "    <tr>\n",
              "      <th>9388</th>\n",
              "      <td>US-2018-127292</td>\n",
              "      <td>2018-01-19</td>\n",
              "      <td>2018-01-23</td>\n",
              "      <td>Standard Class</td>\n",
              "      <td>RM-19375</td>\n",
              "      <td>Raymond Messe</td>\n",
              "      <td>Consumer</td>\n",
              "      <td>United States</td>\n",
              "      <td>Burlington</td>\n",
              "      <td>Vermont</td>\n",
              "      <td>NaN</td>\n",
              "      <td>East</td>\n",
              "      <td>OFF-PA-10001970</td>\n",
              "      <td>Office Supplies</td>\n",
              "      <td>Paper</td>\n",
              "      <td>Xerox 1881</td>\n",
              "      <td>12.28</td>\n",
              "    </tr>\n",
              "    <tr>\n",
              "      <th>9389</th>\n",
              "      <td>US-2018-127292</td>\n",
              "      <td>2018-01-19</td>\n",
              "      <td>2018-01-23</td>\n",
              "      <td>Standard Class</td>\n",
              "      <td>RM-19375</td>\n",
              "      <td>Raymond Messe</td>\n",
              "      <td>Consumer</td>\n",
              "      <td>United States</td>\n",
              "      <td>Burlington</td>\n",
              "      <td>Vermont</td>\n",
              "      <td>NaN</td>\n",
              "      <td>East</td>\n",
              "      <td>OFF-AP-10000828</td>\n",
              "      <td>Office Supplies</td>\n",
              "      <td>Appliances</td>\n",
              "      <td>Avanti 4.4 Cu. Ft. Refrigerator</td>\n",
              "      <td>542.94</td>\n",
              "    </tr>\n",
              "    <tr>\n",
              "      <th>9390</th>\n",
              "      <td>US-2018-127292</td>\n",
              "      <td>2018-01-19</td>\n",
              "      <td>2018-01-23</td>\n",
              "      <td>Standard Class</td>\n",
              "      <td>RM-19375</td>\n",
              "      <td>Raymond Messe</td>\n",
              "      <td>Consumer</td>\n",
              "      <td>United States</td>\n",
              "      <td>Burlington</td>\n",
              "      <td>Vermont</td>\n",
              "      <td>NaN</td>\n",
              "      <td>East</td>\n",
              "      <td>OFF-EN-10001509</td>\n",
              "      <td>Office Supplies</td>\n",
              "      <td>Envelopes</td>\n",
              "      <td>Poly String Tie Envelopes</td>\n",
              "      <td>2.04</td>\n",
              "    </tr>\n",
              "    <tr>\n",
              "      <th>9742</th>\n",
              "      <td>CA-2016-117086</td>\n",
              "      <td>2016-08-11</td>\n",
              "      <td>2016-12-11</td>\n",
              "      <td>Standard Class</td>\n",
              "      <td>QJ-19255</td>\n",
              "      <td>Quincy Jones</td>\n",
              "      <td>Corporate</td>\n",
              "      <td>United States</td>\n",
              "      <td>Burlington</td>\n",
              "      <td>Vermont</td>\n",
              "      <td>NaN</td>\n",
              "      <td>East</td>\n",
              "      <td>FUR-BO-10004834</td>\n",
              "      <td>Furniture</td>\n",
              "      <td>Bookcases</td>\n",
              "      <td>Riverside Palais Royal Lawyers Bookcase, Royal...</td>\n",
              "      <td>4404.90</td>\n",
              "    </tr>\n",
              "  </tbody>\n",
              "</table>\n",
              "</div>\n",
              "    <div class=\"colab-df-buttons\">\n",
              "\n",
              "  <div class=\"colab-df-container\">\n",
              "    <button class=\"colab-df-convert\" onclick=\"convertToInteractive('df-1c35fb63-93ce-43fb-bc8e-286c1826e329')\"\n",
              "            title=\"Convert this dataframe to an interactive table.\"\n",
              "            style=\"display:none;\">\n",
              "\n",
              "  <svg xmlns=\"http://www.w3.org/2000/svg\" height=\"24px\" viewBox=\"0 -960 960 960\">\n",
              "    <path d=\"M120-120v-720h720v720H120Zm60-500h600v-160H180v160Zm220 220h160v-160H400v160Zm0 220h160v-160H400v160ZM180-400h160v-160H180v160Zm440 0h160v-160H620v160ZM180-180h160v-160H180v160Zm440 0h160v-160H620v160Z\"/>\n",
              "  </svg>\n",
              "    </button>\n",
              "\n",
              "  <style>\n",
              "    .colab-df-container {\n",
              "      display:flex;\n",
              "      gap: 12px;\n",
              "    }\n",
              "\n",
              "    .colab-df-convert {\n",
              "      background-color: #E8F0FE;\n",
              "      border: none;\n",
              "      border-radius: 50%;\n",
              "      cursor: pointer;\n",
              "      display: none;\n",
              "      fill: #1967D2;\n",
              "      height: 32px;\n",
              "      padding: 0 0 0 0;\n",
              "      width: 32px;\n",
              "    }\n",
              "\n",
              "    .colab-df-convert:hover {\n",
              "      background-color: #E2EBFA;\n",
              "      box-shadow: 0px 1px 2px rgba(60, 64, 67, 0.3), 0px 1px 3px 1px rgba(60, 64, 67, 0.15);\n",
              "      fill: #174EA6;\n",
              "    }\n",
              "\n",
              "    .colab-df-buttons div {\n",
              "      margin-bottom: 4px;\n",
              "    }\n",
              "\n",
              "    [theme=dark] .colab-df-convert {\n",
              "      background-color: #3B4455;\n",
              "      fill: #D2E3FC;\n",
              "    }\n",
              "\n",
              "    [theme=dark] .colab-df-convert:hover {\n",
              "      background-color: #434B5C;\n",
              "      box-shadow: 0px 1px 3px 1px rgba(0, 0, 0, 0.15);\n",
              "      filter: drop-shadow(0px 1px 2px rgba(0, 0, 0, 0.3));\n",
              "      fill: #FFFFFF;\n",
              "    }\n",
              "  </style>\n",
              "\n",
              "    <script>\n",
              "      const buttonEl =\n",
              "        document.querySelector('#df-1c35fb63-93ce-43fb-bc8e-286c1826e329 button.colab-df-convert');\n",
              "      buttonEl.style.display =\n",
              "        google.colab.kernel.accessAllowed ? 'block' : 'none';\n",
              "\n",
              "      async function convertToInteractive(key) {\n",
              "        const element = document.querySelector('#df-1c35fb63-93ce-43fb-bc8e-286c1826e329');\n",
              "        const dataTable =\n",
              "          await google.colab.kernel.invokeFunction('convertToInteractive',\n",
              "                                                    [key], {});\n",
              "        if (!dataTable) return;\n",
              "\n",
              "        const docLinkHtml = 'Like what you see? Visit the ' +\n",
              "          '<a target=\"_blank\" href=https://colab.research.google.com/notebooks/data_table.ipynb>data table notebook</a>'\n",
              "          + ' to learn more about interactive tables.';\n",
              "        element.innerHTML = '';\n",
              "        dataTable['output_type'] = 'display_data';\n",
              "        await google.colab.output.renderOutput(dataTable, element);\n",
              "        const docLink = document.createElement('div');\n",
              "        docLink.innerHTML = docLinkHtml;\n",
              "        element.appendChild(docLink);\n",
              "      }\n",
              "    </script>\n",
              "  </div>\n",
              "\n",
              "\n",
              "<div id=\"df-216d05fa-36d4-445a-b9ef-b5281af58b1c\">\n",
              "  <button class=\"colab-df-quickchart\" onclick=\"quickchart('df-216d05fa-36d4-445a-b9ef-b5281af58b1c')\"\n",
              "            title=\"Suggest charts\"\n",
              "            style=\"display:none;\">\n",
              "\n",
              "<svg xmlns=\"http://www.w3.org/2000/svg\" height=\"24px\"viewBox=\"0 0 24 24\"\n",
              "     width=\"24px\">\n",
              "    <g>\n",
              "        <path d=\"M19 3H5c-1.1 0-2 .9-2 2v14c0 1.1.9 2 2 2h14c1.1 0 2-.9 2-2V5c0-1.1-.9-2-2-2zM9 17H7v-7h2v7zm4 0h-2V7h2v10zm4 0h-2v-4h2v4z\"/>\n",
              "    </g>\n",
              "</svg>\n",
              "  </button>\n",
              "\n",
              "<style>\n",
              "  .colab-df-quickchart {\n",
              "      --bg-color: #E8F0FE;\n",
              "      --fill-color: #1967D2;\n",
              "      --hover-bg-color: #E2EBFA;\n",
              "      --hover-fill-color: #174EA6;\n",
              "      --disabled-fill-color: #AAA;\n",
              "      --disabled-bg-color: #DDD;\n",
              "  }\n",
              "\n",
              "  [theme=dark] .colab-df-quickchart {\n",
              "      --bg-color: #3B4455;\n",
              "      --fill-color: #D2E3FC;\n",
              "      --hover-bg-color: #434B5C;\n",
              "      --hover-fill-color: #FFFFFF;\n",
              "      --disabled-bg-color: #3B4455;\n",
              "      --disabled-fill-color: #666;\n",
              "  }\n",
              "\n",
              "  .colab-df-quickchart {\n",
              "    background-color: var(--bg-color);\n",
              "    border: none;\n",
              "    border-radius: 50%;\n",
              "    cursor: pointer;\n",
              "    display: none;\n",
              "    fill: var(--fill-color);\n",
              "    height: 32px;\n",
              "    padding: 0;\n",
              "    width: 32px;\n",
              "  }\n",
              "\n",
              "  .colab-df-quickchart:hover {\n",
              "    background-color: var(--hover-bg-color);\n",
              "    box-shadow: 0 1px 2px rgba(60, 64, 67, 0.3), 0 1px 3px 1px rgba(60, 64, 67, 0.15);\n",
              "    fill: var(--button-hover-fill-color);\n",
              "  }\n",
              "\n",
              "  .colab-df-quickchart-complete:disabled,\n",
              "  .colab-df-quickchart-complete:disabled:hover {\n",
              "    background-color: var(--disabled-bg-color);\n",
              "    fill: var(--disabled-fill-color);\n",
              "    box-shadow: none;\n",
              "  }\n",
              "\n",
              "  .colab-df-spinner {\n",
              "    border: 2px solid var(--fill-color);\n",
              "    border-color: transparent;\n",
              "    border-bottom-color: var(--fill-color);\n",
              "    animation:\n",
              "      spin 1s steps(1) infinite;\n",
              "  }\n",
              "\n",
              "  @keyframes spin {\n",
              "    0% {\n",
              "      border-color: transparent;\n",
              "      border-bottom-color: var(--fill-color);\n",
              "      border-left-color: var(--fill-color);\n",
              "    }\n",
              "    20% {\n",
              "      border-color: transparent;\n",
              "      border-left-color: var(--fill-color);\n",
              "      border-top-color: var(--fill-color);\n",
              "    }\n",
              "    30% {\n",
              "      border-color: transparent;\n",
              "      border-left-color: var(--fill-color);\n",
              "      border-top-color: var(--fill-color);\n",
              "      border-right-color: var(--fill-color);\n",
              "    }\n",
              "    40% {\n",
              "      border-color: transparent;\n",
              "      border-right-color: var(--fill-color);\n",
              "      border-top-color: var(--fill-color);\n",
              "    }\n",
              "    60% {\n",
              "      border-color: transparent;\n",
              "      border-right-color: var(--fill-color);\n",
              "    }\n",
              "    80% {\n",
              "      border-color: transparent;\n",
              "      border-right-color: var(--fill-color);\n",
              "      border-bottom-color: var(--fill-color);\n",
              "    }\n",
              "    90% {\n",
              "      border-color: transparent;\n",
              "      border-bottom-color: var(--fill-color);\n",
              "    }\n",
              "  }\n",
              "</style>\n",
              "\n",
              "  <script>\n",
              "    async function quickchart(key) {\n",
              "      const quickchartButtonEl =\n",
              "        document.querySelector('#' + key + ' button');\n",
              "      quickchartButtonEl.disabled = true;  // To prevent multiple clicks.\n",
              "      quickchartButtonEl.classList.add('colab-df-spinner');\n",
              "      try {\n",
              "        const charts = await google.colab.kernel.invokeFunction(\n",
              "            'suggestCharts', [key], {});\n",
              "      } catch (error) {\n",
              "        console.error('Error during call to suggestCharts:', error);\n",
              "      }\n",
              "      quickchartButtonEl.classList.remove('colab-df-spinner');\n",
              "      quickchartButtonEl.classList.add('colab-df-quickchart-complete');\n",
              "    }\n",
              "    (() => {\n",
              "      let quickchartButtonEl =\n",
              "        document.querySelector('#df-216d05fa-36d4-445a-b9ef-b5281af58b1c button');\n",
              "      quickchartButtonEl.style.display =\n",
              "        google.colab.kernel.accessAllowed ? 'block' : 'none';\n",
              "    })();\n",
              "  </script>\n",
              "</div>\n",
              "\n",
              "    </div>\n",
              "  </div>\n"
            ]
          },
          "metadata": {},
          "execution_count": 419
        }
      ]
    },
    {
      "cell_type": "code",
      "source": [
        "df['postal code']=df['postal code'].fillna(0)"
      ],
      "metadata": {
        "colab": {
          "base_uri": "https://localhost:8080/"
        },
        "id": "k-z1qLiOuFnY",
        "outputId": "730ddfa1-ee9e-4065-af1e-98c987804435"
      },
      "execution_count": 420,
      "outputs": [
        {
          "output_type": "stream",
          "name": "stderr",
          "text": [
            "<ipython-input-420-567edba8d987>:1: SettingWithCopyWarning: \n",
            "A value is trying to be set on a copy of a slice from a DataFrame.\n",
            "Try using .loc[row_indexer,col_indexer] = value instead\n",
            "\n",
            "See the caveats in the documentation: https://pandas.pydata.org/pandas-docs/stable/user_guide/indexing.html#returning-a-view-versus-a-copy\n",
            "  df['postal code']=df['postal code'].fillna(0)\n"
          ]
        }
      ]
    },
    {
      "cell_type": "code",
      "source": [
        "df['postal code'].isnull().sum()"
      ],
      "metadata": {
        "colab": {
          "base_uri": "https://localhost:8080/"
        },
        "id": "VcKZLvxJuFf6",
        "outputId": "701c6b18-eb52-44ba-ebc7-1eeaef421ae2"
      },
      "execution_count": 421,
      "outputs": [
        {
          "output_type": "execute_result",
          "data": {
            "text/plain": [
              "0"
            ]
          },
          "metadata": {},
          "execution_count": 421
        }
      ]
    },
    {
      "cell_type": "code",
      "source": [
        "df['postal code'].dtype"
      ],
      "metadata": {
        "colab": {
          "base_uri": "https://localhost:8080/"
        },
        "outputId": "f100f7ea-67b6-4d64-9694-b95c40126cb8",
        "id": "CaJHoePfoRs3"
      },
      "execution_count": 422,
      "outputs": [
        {
          "output_type": "execute_result",
          "data": {
            "text/plain": [
              "dtype('float64')"
            ]
          },
          "metadata": {},
          "execution_count": 422
        }
      ]
    },
    {
      "cell_type": "markdown",
      "source": [
        "Converting data type to integer."
      ],
      "metadata": {
        "id": "IQJkPJrUugSD"
      }
    },
    {
      "cell_type": "code",
      "source": [
        "df['postal code']=df['postal code'].astype(int)"
      ],
      "metadata": {
        "colab": {
          "base_uri": "https://localhost:8080/"
        },
        "id": "zPbAp8DwulVm",
        "outputId": "b57a53c6-f12e-40e0-f157-c6d27c9b7f01"
      },
      "execution_count": 423,
      "outputs": [
        {
          "output_type": "stream",
          "name": "stderr",
          "text": [
            "<ipython-input-423-4ac40cf27a7e>:1: SettingWithCopyWarning: \n",
            "A value is trying to be set on a copy of a slice from a DataFrame.\n",
            "Try using .loc[row_indexer,col_indexer] = value instead\n",
            "\n",
            "See the caveats in the documentation: https://pandas.pydata.org/pandas-docs/stable/user_guide/indexing.html#returning-a-view-versus-a-copy\n",
            "  df['postal code']=df['postal code'].astype(int)\n"
          ]
        }
      ]
    },
    {
      "cell_type": "code",
      "source": [
        "df['postal code'].dtype"
      ],
      "metadata": {
        "colab": {
          "base_uri": "https://localhost:8080/"
        },
        "id": "egX_mZUEuuOx",
        "outputId": "b12bc653-35a1-4331-d754-852be66cce32"
      },
      "execution_count": 424,
      "outputs": [
        {
          "output_type": "execute_result",
          "data": {
            "text/plain": [
              "dtype('int64')"
            ]
          },
          "metadata": {},
          "execution_count": 424
        }
      ]
    },
    {
      "cell_type": "code",
      "source": [
        "df['postal code'].value_counts()"
      ],
      "metadata": {
        "colab": {
          "base_uri": "https://localhost:8080/"
        },
        "outputId": "3d5da17e-8a84-4b09-9391-67baaa82255a",
        "id": "TJC-OZIroRs3"
      },
      "execution_count": 425,
      "outputs": [
        {
          "output_type": "execute_result",
          "data": {
            "text/plain": [
              "10035    253\n",
              "10024    225\n",
              "10009    220\n",
              "94122    195\n",
              "10011    193\n",
              "        ... \n",
              "32935      1\n",
              "76248      1\n",
              "32127      1\n",
              "32503      1\n",
              "72762      1\n",
              "Name: postal code, Length: 627, dtype: int64"
            ]
          },
          "metadata": {},
          "execution_count": 425
        }
      ]
    },
    {
      "cell_type": "code",
      "source": [],
      "metadata": {
        "id": "Jztctik6uymj"
      },
      "execution_count": 425,
      "outputs": []
    },
    {
      "cell_type": "markdown",
      "source": [
        "### region"
      ],
      "metadata": {
        "id": "WYgAN5QTvFCh"
      }
    },
    {
      "cell_type": "markdown",
      "source": [
        "Contains information about region."
      ],
      "metadata": {
        "id": "VRebWdCXvFCq"
      }
    },
    {
      "cell_type": "code",
      "source": [
        "df['region']=df_original['Region'].copy()"
      ],
      "metadata": {
        "colab": {
          "base_uri": "https://localhost:8080/"
        },
        "outputId": "25e6442f-acd1-484b-dd2b-e4127dcce9a0",
        "id": "s4o1gehfvFCr"
      },
      "execution_count": 426,
      "outputs": [
        {
          "output_type": "stream",
          "name": "stderr",
          "text": [
            "<ipython-input-426-4a09a06f8df9>:1: SettingWithCopyWarning: \n",
            "A value is trying to be set on a copy of a slice from a DataFrame.\n",
            "Try using .loc[row_indexer,col_indexer] = value instead\n",
            "\n",
            "See the caveats in the documentation: https://pandas.pydata.org/pandas-docs/stable/user_guide/indexing.html#returning-a-view-versus-a-copy\n",
            "  df['region']=df_original['Region'].copy()\n"
          ]
        }
      ]
    },
    {
      "cell_type": "code",
      "source": [
        "df['region']"
      ],
      "metadata": {
        "colab": {
          "base_uri": "https://localhost:8080/"
        },
        "outputId": "c1f263f5-abc8-4cfc-b1e2-3a6350a77de2",
        "id": "KBBuGZYfvFCr"
      },
      "execution_count": 427,
      "outputs": [
        {
          "output_type": "execute_result",
          "data": {
            "text/plain": [
              "Row ID\n",
              "1         South\n",
              "2         South\n",
              "3          West\n",
              "4         South\n",
              "5         South\n",
              "         ...   \n",
              "9796    Central\n",
              "9797       East\n",
              "9798       East\n",
              "9799       East\n",
              "9800       East\n",
              "Name: region, Length: 9799, dtype: object"
            ]
          },
          "metadata": {},
          "execution_count": 427
        }
      ]
    },
    {
      "cell_type": "code",
      "source": [
        "df['region'].isna().sum()"
      ],
      "metadata": {
        "colab": {
          "base_uri": "https://localhost:8080/"
        },
        "outputId": "7b8631e6-50fe-4ccc-c17e-480f12005c2d",
        "id": "c3WssVBNvFCr"
      },
      "execution_count": 428,
      "outputs": [
        {
          "output_type": "execute_result",
          "data": {
            "text/plain": [
              "0"
            ]
          },
          "metadata": {},
          "execution_count": 428
        }
      ]
    },
    {
      "cell_type": "code",
      "source": [
        "df['region'].dtype"
      ],
      "metadata": {
        "colab": {
          "base_uri": "https://localhost:8080/"
        },
        "outputId": "701ef2cd-b320-41a6-9925-3b10cc59a1d1",
        "id": "ut9Rn4rivFCr"
      },
      "execution_count": 429,
      "outputs": [
        {
          "output_type": "execute_result",
          "data": {
            "text/plain": [
              "dtype('O')"
            ]
          },
          "metadata": {},
          "execution_count": 429
        }
      ]
    },
    {
      "cell_type": "code",
      "source": [
        "df['region'].value_counts()"
      ],
      "metadata": {
        "colab": {
          "base_uri": "https://localhost:8080/"
        },
        "outputId": "8d8076a8-0ee6-476b-fceb-7e7d241be5f2",
        "id": "YdA0kkZ9vFCs"
      },
      "execution_count": 430,
      "outputs": [
        {
          "output_type": "execute_result",
          "data": {
            "text/plain": [
              "West       3140\n",
              "East       2784\n",
              "Central    2277\n",
              "South      1598\n",
              "Name: region, dtype: int64"
            ]
          },
          "metadata": {},
          "execution_count": 430
        }
      ]
    },
    {
      "cell_type": "code",
      "source": [],
      "metadata": {
        "id": "-N8_Jkdivgij"
      },
      "execution_count": 430,
      "outputs": []
    },
    {
      "cell_type": "markdown",
      "source": [
        "### product id"
      ],
      "metadata": {
        "id": "m4USfTvpvgzr"
      }
    },
    {
      "cell_type": "markdown",
      "source": [
        "Contains information about product id."
      ],
      "metadata": {
        "id": "eXh0IQLfvgzr"
      }
    },
    {
      "cell_type": "code",
      "source": [
        "df['product id']=df_original['Product ID'].copy()"
      ],
      "metadata": {
        "colab": {
          "base_uri": "https://localhost:8080/"
        },
        "outputId": "f18290aa-f91a-4adc-a401-ca16f7b2e2b1",
        "id": "1sTNfgdJvgzr"
      },
      "execution_count": 431,
      "outputs": [
        {
          "output_type": "stream",
          "name": "stderr",
          "text": [
            "<ipython-input-431-75f6637b0662>:1: SettingWithCopyWarning: \n",
            "A value is trying to be set on a copy of a slice from a DataFrame.\n",
            "Try using .loc[row_indexer,col_indexer] = value instead\n",
            "\n",
            "See the caveats in the documentation: https://pandas.pydata.org/pandas-docs/stable/user_guide/indexing.html#returning-a-view-versus-a-copy\n",
            "  df['product id']=df_original['Product ID'].copy()\n"
          ]
        }
      ]
    },
    {
      "cell_type": "code",
      "source": [
        "df['product id']"
      ],
      "metadata": {
        "colab": {
          "base_uri": "https://localhost:8080/"
        },
        "outputId": "b0291eda-4f3f-4010-d5bc-fa3e2f7906f3",
        "id": "kaezbMH4vgzs"
      },
      "execution_count": 432,
      "outputs": [
        {
          "output_type": "execute_result",
          "data": {
            "text/plain": [
              "Row ID\n",
              "1       FUR-BO-10001798\n",
              "2       FUR-CH-10000454\n",
              "3       OFF-LA-10000240\n",
              "4       FUR-TA-10000577\n",
              "5       OFF-ST-10000760\n",
              "             ...       \n",
              "9796    OFF-BI-10003429\n",
              "9797    OFF-AR-10001374\n",
              "9798    TEC-PH-10004977\n",
              "9799    TEC-PH-10000912\n",
              "9800    TEC-AC-10000487\n",
              "Name: product id, Length: 9799, dtype: object"
            ]
          },
          "metadata": {},
          "execution_count": 432
        }
      ]
    },
    {
      "cell_type": "code",
      "source": [
        "df['product id'].isna().sum()"
      ],
      "metadata": {
        "colab": {
          "base_uri": "https://localhost:8080/"
        },
        "outputId": "d5ea78e7-7785-41f2-b30f-934ee09672f5",
        "id": "Y1KTBGWUvgzs"
      },
      "execution_count": 433,
      "outputs": [
        {
          "output_type": "execute_result",
          "data": {
            "text/plain": [
              "0"
            ]
          },
          "metadata": {},
          "execution_count": 433
        }
      ]
    },
    {
      "cell_type": "code",
      "source": [
        "df['product id'].dtype"
      ],
      "metadata": {
        "colab": {
          "base_uri": "https://localhost:8080/"
        },
        "outputId": "004dd08e-c891-4ca7-e57f-c6b8885169b2",
        "id": "4syTU7bXvgzs"
      },
      "execution_count": 434,
      "outputs": [
        {
          "output_type": "execute_result",
          "data": {
            "text/plain": [
              "dtype('O')"
            ]
          },
          "metadata": {},
          "execution_count": 434
        }
      ]
    },
    {
      "cell_type": "code",
      "source": [
        "df['product id'].value_counts()"
      ],
      "metadata": {
        "colab": {
          "base_uri": "https://localhost:8080/"
        },
        "outputId": "55adf0cb-add7-4ff2-8923-4407f67bc9f3",
        "id": "S80sui_Zvgzs"
      },
      "execution_count": 435,
      "outputs": [
        {
          "output_type": "execute_result",
          "data": {
            "text/plain": [
              "OFF-PA-10001970    19\n",
              "TEC-AC-10003832    18\n",
              "FUR-FU-10004270    16\n",
              "TEC-AC-10002049    15\n",
              "TEC-AC-10003628    15\n",
              "                   ..\n",
              "OFF-PA-10000919     1\n",
              "TEC-MA-10003353     1\n",
              "OFF-LA-10003388     1\n",
              "OFF-EN-10004206     1\n",
              "TEC-PH-10002645     1\n",
              "Name: product id, Length: 1861, dtype: int64"
            ]
          },
          "metadata": {},
          "execution_count": 435
        }
      ]
    },
    {
      "cell_type": "code",
      "source": [],
      "metadata": {
        "id": "cwwrIrkfv0wD"
      },
      "execution_count": 435,
      "outputs": []
    },
    {
      "cell_type": "markdown",
      "source": [
        "### category"
      ],
      "metadata": {
        "id": "ZQ2nYktAyQ1r"
      }
    },
    {
      "cell_type": "markdown",
      "source": [
        "Contains information about category."
      ],
      "metadata": {
        "id": "Vhg2p9nUyQ1s"
      }
    },
    {
      "cell_type": "code",
      "source": [
        "df['category']=df_original['Category'].copy()"
      ],
      "metadata": {
        "colab": {
          "base_uri": "https://localhost:8080/"
        },
        "outputId": "2f3a5830-26e8-4aaf-e617-511bd71b831e",
        "id": "6SASbyC7yQ1s"
      },
      "execution_count": 436,
      "outputs": [
        {
          "output_type": "stream",
          "name": "stderr",
          "text": [
            "<ipython-input-436-c23a872f9e4a>:1: SettingWithCopyWarning: \n",
            "A value is trying to be set on a copy of a slice from a DataFrame.\n",
            "Try using .loc[row_indexer,col_indexer] = value instead\n",
            "\n",
            "See the caveats in the documentation: https://pandas.pydata.org/pandas-docs/stable/user_guide/indexing.html#returning-a-view-versus-a-copy\n",
            "  df['category']=df_original['Category'].copy()\n"
          ]
        }
      ]
    },
    {
      "cell_type": "code",
      "source": [
        "df['category']"
      ],
      "metadata": {
        "colab": {
          "base_uri": "https://localhost:8080/"
        },
        "outputId": "7084cbd2-df10-42de-d3f3-ddbca76908d3",
        "id": "51jq18gmyQ1t"
      },
      "execution_count": 437,
      "outputs": [
        {
          "output_type": "execute_result",
          "data": {
            "text/plain": [
              "Row ID\n",
              "1             Furniture\n",
              "2             Furniture\n",
              "3       Office Supplies\n",
              "4             Furniture\n",
              "5       Office Supplies\n",
              "             ...       \n",
              "9796    Office Supplies\n",
              "9797    Office Supplies\n",
              "9798         Technology\n",
              "9799         Technology\n",
              "9800         Technology\n",
              "Name: category, Length: 9799, dtype: object"
            ]
          },
          "metadata": {},
          "execution_count": 437
        }
      ]
    },
    {
      "cell_type": "code",
      "source": [
        "df['category'].isna().sum()"
      ],
      "metadata": {
        "colab": {
          "base_uri": "https://localhost:8080/"
        },
        "outputId": "64dc5f7f-5edc-44ee-b87b-3a5e44bbabf5",
        "id": "9t3to3KEyQ1t"
      },
      "execution_count": 438,
      "outputs": [
        {
          "output_type": "execute_result",
          "data": {
            "text/plain": [
              "0"
            ]
          },
          "metadata": {},
          "execution_count": 438
        }
      ]
    },
    {
      "cell_type": "code",
      "source": [
        "df['category'].dtype"
      ],
      "metadata": {
        "colab": {
          "base_uri": "https://localhost:8080/"
        },
        "outputId": "09969e19-77ab-4a9e-9153-5269d776a8cc",
        "id": "aLVuWfrTyQ1t"
      },
      "execution_count": 439,
      "outputs": [
        {
          "output_type": "execute_result",
          "data": {
            "text/plain": [
              "dtype('O')"
            ]
          },
          "metadata": {},
          "execution_count": 439
        }
      ]
    },
    {
      "cell_type": "code",
      "source": [
        "df['category'].value_counts()"
      ],
      "metadata": {
        "colab": {
          "base_uri": "https://localhost:8080/"
        },
        "outputId": "00f5d287-6eb1-48bc-8dfe-00d21a5c0497",
        "id": "WzbNm0DEyQ1u"
      },
      "execution_count": 440,
      "outputs": [
        {
          "output_type": "execute_result",
          "data": {
            "text/plain": [
              "Office Supplies    5909\n",
              "Furniture          2077\n",
              "Technology         1813\n",
              "Name: category, dtype: int64"
            ]
          },
          "metadata": {},
          "execution_count": 440
        }
      ]
    },
    {
      "cell_type": "code",
      "source": [],
      "metadata": {
        "id": "Pf1wQ-w2ysHE"
      },
      "execution_count": 440,
      "outputs": []
    },
    {
      "cell_type": "markdown",
      "source": [
        "### sub-category"
      ],
      "metadata": {
        "id": "xUg6J_mAyvj8"
      }
    },
    {
      "cell_type": "markdown",
      "source": [
        "Contains information about sub-category."
      ],
      "metadata": {
        "id": "ND_TkTwryvkG"
      }
    },
    {
      "cell_type": "code",
      "source": [
        "df['sub-category']=df_original['Sub-Category'].copy()"
      ],
      "metadata": {
        "colab": {
          "base_uri": "https://localhost:8080/"
        },
        "outputId": "601be6c1-4573-44dd-95b2-0d586ecde407",
        "id": "G2R_aQARyvkG"
      },
      "execution_count": 441,
      "outputs": [
        {
          "output_type": "stream",
          "name": "stderr",
          "text": [
            "<ipython-input-441-c6429f0b285a>:1: SettingWithCopyWarning: \n",
            "A value is trying to be set on a copy of a slice from a DataFrame.\n",
            "Try using .loc[row_indexer,col_indexer] = value instead\n",
            "\n",
            "See the caveats in the documentation: https://pandas.pydata.org/pandas-docs/stable/user_guide/indexing.html#returning-a-view-versus-a-copy\n",
            "  df['sub-category']=df_original['Sub-Category'].copy()\n"
          ]
        }
      ]
    },
    {
      "cell_type": "code",
      "source": [
        "df['sub-category']"
      ],
      "metadata": {
        "colab": {
          "base_uri": "https://localhost:8080/"
        },
        "outputId": "751d6e4c-09ef-4ee6-e14a-3125da0d54f1",
        "id": "UOulxuueyvkG"
      },
      "execution_count": 442,
      "outputs": [
        {
          "output_type": "execute_result",
          "data": {
            "text/plain": [
              "Row ID\n",
              "1         Bookcases\n",
              "2            Chairs\n",
              "3            Labels\n",
              "4            Tables\n",
              "5           Storage\n",
              "           ...     \n",
              "9796        Binders\n",
              "9797            Art\n",
              "9798         Phones\n",
              "9799         Phones\n",
              "9800    Accessories\n",
              "Name: sub-category, Length: 9799, dtype: object"
            ]
          },
          "metadata": {},
          "execution_count": 442
        }
      ]
    },
    {
      "cell_type": "code",
      "source": [
        "df['sub-category'].isna().sum()"
      ],
      "metadata": {
        "colab": {
          "base_uri": "https://localhost:8080/"
        },
        "outputId": "175afc88-310f-4a70-f108-b0a103ab4df9",
        "id": "De5pbkomyvkH"
      },
      "execution_count": 443,
      "outputs": [
        {
          "output_type": "execute_result",
          "data": {
            "text/plain": [
              "0"
            ]
          },
          "metadata": {},
          "execution_count": 443
        }
      ]
    },
    {
      "cell_type": "code",
      "source": [
        "df['sub-category'].dtype"
      ],
      "metadata": {
        "colab": {
          "base_uri": "https://localhost:8080/"
        },
        "outputId": "9cc87e96-06be-4afe-dadd-5e76e1d40e91",
        "id": "eWp3KWI4yvkH"
      },
      "execution_count": 444,
      "outputs": [
        {
          "output_type": "execute_result",
          "data": {
            "text/plain": [
              "dtype('O')"
            ]
          },
          "metadata": {},
          "execution_count": 444
        }
      ]
    },
    {
      "cell_type": "code",
      "source": [
        "df['sub-category'].value_counts()"
      ],
      "metadata": {
        "colab": {
          "base_uri": "https://localhost:8080/"
        },
        "outputId": "ea5576cf-4681-4294-8f3b-24cc525d2b33",
        "id": "pV-i0-JxyvkH"
      },
      "execution_count": 445,
      "outputs": [
        {
          "output_type": "execute_result",
          "data": {
            "text/plain": [
              "Binders        1492\n",
              "Paper          1338\n",
              "Furnishings     931\n",
              "Phones          876\n",
              "Storage         832\n",
              "Art             785\n",
              "Accessories     756\n",
              "Chairs          606\n",
              "Appliances      459\n",
              "Labels          357\n",
              "Tables          314\n",
              "Envelopes       248\n",
              "Bookcases       226\n",
              "Fasteners       214\n",
              "Supplies        184\n",
              "Machines        115\n",
              "Copiers          66\n",
              "Name: sub-category, dtype: int64"
            ]
          },
          "metadata": {},
          "execution_count": 445
        }
      ]
    },
    {
      "cell_type": "code",
      "source": [],
      "metadata": {
        "id": "UyEC1-bpzAuv"
      },
      "execution_count": 445,
      "outputs": []
    },
    {
      "cell_type": "markdown",
      "source": [
        "### product name"
      ],
      "metadata": {
        "id": "HQ2han6k0u2y"
      }
    },
    {
      "cell_type": "markdown",
      "source": [
        "Contains information about product name."
      ],
      "metadata": {
        "id": "a7T3GVa40u28"
      }
    },
    {
      "cell_type": "code",
      "source": [
        "df['product name']=df_original['Product Name'].copy()"
      ],
      "metadata": {
        "colab": {
          "base_uri": "https://localhost:8080/"
        },
        "outputId": "6f65738d-bba8-4124-9a72-5df185275873",
        "id": "ziO7pOsu0u28"
      },
      "execution_count": 446,
      "outputs": [
        {
          "output_type": "stream",
          "name": "stderr",
          "text": [
            "<ipython-input-446-1adad26f8de1>:1: SettingWithCopyWarning: \n",
            "A value is trying to be set on a copy of a slice from a DataFrame.\n",
            "Try using .loc[row_indexer,col_indexer] = value instead\n",
            "\n",
            "See the caveats in the documentation: https://pandas.pydata.org/pandas-docs/stable/user_guide/indexing.html#returning-a-view-versus-a-copy\n",
            "  df['product name']=df_original['Product Name'].copy()\n"
          ]
        }
      ]
    },
    {
      "cell_type": "code",
      "source": [
        "df['product name']"
      ],
      "metadata": {
        "colab": {
          "base_uri": "https://localhost:8080/"
        },
        "outputId": "0543b9ef-a289-483d-bd43-b665e7648ca5",
        "id": "ZS7SlaSq0u29"
      },
      "execution_count": 447,
      "outputs": [
        {
          "output_type": "execute_result",
          "data": {
            "text/plain": [
              "Row ID\n",
              "1                       Bush Somerset Collection Bookcase\n",
              "2       Hon Deluxe Fabric Upholstered Stacking Chairs,...\n",
              "3       Self-Adhesive Address Labels for Typewriters b...\n",
              "4           Bretford CR4500 Series Slim Rectangular Table\n",
              "5                          Eldon Fold 'N Roll Cart System\n",
              "                              ...                        \n",
              "9796    Cardinal HOLDit! Binder Insert Strips,Extra St...\n",
              "9797             BIC Brite Liner Highlighters, Chisel Tip\n",
              "9798                                          GE 30524EE4\n",
              "9799             Anker 24W Portable Micro USB Car Charger\n",
              "9800                  SanDisk Cruzer 4 GB USB Flash Drive\n",
              "Name: product name, Length: 9799, dtype: object"
            ]
          },
          "metadata": {},
          "execution_count": 447
        }
      ]
    },
    {
      "cell_type": "code",
      "source": [
        "df['product name'].isna().sum()"
      ],
      "metadata": {
        "colab": {
          "base_uri": "https://localhost:8080/"
        },
        "outputId": "0f3d054c-445b-43c4-81a3-33824c5b5d25",
        "id": "XX7Xl8rz0u29"
      },
      "execution_count": 448,
      "outputs": [
        {
          "output_type": "execute_result",
          "data": {
            "text/plain": [
              "0"
            ]
          },
          "metadata": {},
          "execution_count": 448
        }
      ]
    },
    {
      "cell_type": "code",
      "source": [
        "df['product name'].dtype"
      ],
      "metadata": {
        "colab": {
          "base_uri": "https://localhost:8080/"
        },
        "outputId": "31a303b1-e71a-42f0-e22b-6ac61048a8f5",
        "id": "70WMgqDC0u29"
      },
      "execution_count": 449,
      "outputs": [
        {
          "output_type": "execute_result",
          "data": {
            "text/plain": [
              "dtype('O')"
            ]
          },
          "metadata": {},
          "execution_count": 449
        }
      ]
    },
    {
      "cell_type": "code",
      "source": [
        "df['product name'].value_counts()"
      ],
      "metadata": {
        "colab": {
          "base_uri": "https://localhost:8080/"
        },
        "outputId": "dc649537-885b-4b9e-ed64-b0a548da75e3",
        "id": "5H8IgV7J0u2-"
      },
      "execution_count": 450,
      "outputs": [
        {
          "output_type": "execute_result",
          "data": {
            "text/plain": [
              "Staple envelope                                                        47\n",
              "Staples                                                                46\n",
              "Easy-staple paper                                                      44\n",
              "Avery Non-Stick Binders                                                20\n",
              "Staples in misc. colors                                                18\n",
              "                                                                       ..\n",
              "Xiaomi Mi3                                                              1\n",
              "Universal Ultra Bright White Copier/Laser Paper, 8 1/2\" x 11\", Ream     1\n",
              "Socket Bluetooth Cordless Hand Scanner (CHS)                            1\n",
              "Logitech Illuminated Ultrathin Keyboard with Backlighting               1\n",
              "LG G2                                                                   1\n",
              "Name: product name, Length: 1849, dtype: int64"
            ]
          },
          "metadata": {},
          "execution_count": 450
        }
      ]
    },
    {
      "cell_type": "code",
      "source": [],
      "metadata": {
        "id": "mWXhPPVu1Hhi"
      },
      "execution_count": 450,
      "outputs": []
    },
    {
      "cell_type": "markdown",
      "source": [
        "### sales"
      ],
      "metadata": {
        "id": "yQoaMcWcBNHW"
      }
    },
    {
      "cell_type": "markdown",
      "source": [
        "Contains information about sales."
      ],
      "metadata": {
        "id": "q7n7MU6jBNHX"
      }
    },
    {
      "cell_type": "code",
      "source": [
        "df['sales']=df_original['Sales'].copy()"
      ],
      "metadata": {
        "colab": {
          "base_uri": "https://localhost:8080/"
        },
        "outputId": "bd2a2f67-bab0-4c00-8ed8-e7869d509039",
        "id": "7GqomtflBNHX"
      },
      "execution_count": 343,
      "outputs": [
        {
          "output_type": "stream",
          "name": "stderr",
          "text": [
            "<ipython-input-343-4942538c7b28>:1: SettingWithCopyWarning: \n",
            "A value is trying to be set on a copy of a slice from a DataFrame.\n",
            "Try using .loc[row_indexer,col_indexer] = value instead\n",
            "\n",
            "See the caveats in the documentation: https://pandas.pydata.org/pandas-docs/stable/user_guide/indexing.html#returning-a-view-versus-a-copy\n",
            "  df['sales']=df_original['Sales'].copy()\n"
          ]
        }
      ]
    },
    {
      "cell_type": "code",
      "source": [
        "df['sales']"
      ],
      "metadata": {
        "colab": {
          "base_uri": "https://localhost:8080/"
        },
        "outputId": "daea33a5-c5b7-4549-d9bf-7ff5ac1f801e",
        "id": "2ylHLrf6BNHX"
      },
      "execution_count": 457,
      "outputs": [
        {
          "output_type": "execute_result",
          "data": {
            "text/plain": [
              "Row ID\n",
              "1       261.9600\n",
              "2       731.9400\n",
              "3        14.6200\n",
              "4       957.5775\n",
              "5        22.3680\n",
              "          ...   \n",
              "9796      3.7980\n",
              "9797     10.3680\n",
              "9798    235.1880\n",
              "9799     26.3760\n",
              "9800     10.3840\n",
              "Name: sales, Length: 9799, dtype: float64"
            ]
          },
          "metadata": {},
          "execution_count": 457
        }
      ]
    },
    {
      "cell_type": "code",
      "source": [
        "df['sales'].isna().sum()"
      ],
      "metadata": {
        "colab": {
          "base_uri": "https://localhost:8080/"
        },
        "outputId": "55ef7dbf-fde1-4960-e152-32abe7f5441e",
        "id": "nB48KJ4iBNHY"
      },
      "execution_count": 458,
      "outputs": [
        {
          "output_type": "execute_result",
          "data": {
            "text/plain": [
              "0"
            ]
          },
          "metadata": {},
          "execution_count": 458
        }
      ]
    },
    {
      "cell_type": "code",
      "source": [
        "df['sales'].dtype"
      ],
      "metadata": {
        "colab": {
          "base_uri": "https://localhost:8080/"
        },
        "outputId": "897da1d2-1c6e-4895-dc85-e50ec4eebb54",
        "id": "SRnlNcCUBNHY"
      },
      "execution_count": 459,
      "outputs": [
        {
          "output_type": "execute_result",
          "data": {
            "text/plain": [
              "dtype('float64')"
            ]
          },
          "metadata": {},
          "execution_count": 459
        }
      ]
    },
    {
      "cell_type": "code",
      "source": [
        "df['sales'].value_counts()"
      ],
      "metadata": {
        "colab": {
          "base_uri": "https://localhost:8080/"
        },
        "outputId": "2270b8f6-b607-47b5-a7d7-899dd63968be",
        "id": "nPpSPaSnBNHY"
      },
      "execution_count": 462,
      "outputs": [
        {
          "output_type": "execute_result",
          "data": {
            "text/plain": [
              "12.960     55\n",
              "15.552     39\n",
              "19.440     39\n",
              "10.368     35\n",
              "25.920     34\n",
              "           ..\n",
              "220.064     1\n",
              "339.136     1\n",
              "60.048      1\n",
              "5.022       1\n",
              "10.384      1\n",
              "Name: sales, Length: 5757, dtype: int64"
            ]
          },
          "metadata": {},
          "execution_count": 462
        }
      ]
    },
    {
      "cell_type": "code",
      "source": [],
      "metadata": {
        "id": "miH3eIEtBhYz"
      },
      "execution_count": null,
      "outputs": []
    }
  ]
}